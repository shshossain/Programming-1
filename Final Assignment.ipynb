{
 "cells": [
  {
   "cell_type": "markdown",
   "id": "f509efa1",
   "metadata": {},
   "source": [
    "# Part 1: Loading datasets, cleaning and joining datasets"
   ]
  },
  {
   "cell_type": "markdown",
   "id": "8e372434",
   "metadata": {},
   "source": [
    "## 1.1 Loading Libraries"
   ]
  },
  {
   "cell_type": "code",
   "execution_count": 1,
   "id": "38efb045",
   "metadata": {},
   "outputs": [],
   "source": [
    "from datetime import datetime\n",
    "import pandas as pd\n",
    "import numpy as np\n",
    "import matplotlib.pyplot as plt\n",
    "from numpy import int64\n",
    "import matplotlib.pyplot as plt\n",
    "import matplotlib.dates as mdates\n",
    "import datetime as dt\n",
    "import plotly.express as px\n",
    "from plotly.offline import plot\n",
    "from bokeh.models.widgets import Panel, Tabs\n",
    "from bokeh.plotting import figure\n",
    "from bokeh.layouts import column, row\n",
    "from bokeh.models import ColumnDataSource, HoverTool, NumeralTickFormatter\n",
    "from bokeh.io import output_file, show\n",
    "from scipy.stats import iqr\n",
    "import plotly.graph_objects as go\n",
    "\n"
   ]
  },
  {
   "cell_type": "markdown",
   "id": "f9e2d1d9",
   "metadata": {},
   "source": [
    "## Part 1.2: Loading datasets"
   ]
  },
  {
   "cell_type": "code",
   "execution_count": 2,
   "id": "c0d5ef96",
   "metadata": {},
   "outputs": [],
   "source": [
    "#Reading required files for this assignment\n",
    "\n",
    "covid_data_df = pd.read_csv('full_data.csv')\n",
    "covid_vaccine_df = pd.read_csv('Bangladesh.csv')\n",
    "covid_hospital_df = pd.read_csv('covid-hospitalizations.csv')"
   ]
  },
  {
   "cell_type": "code",
   "execution_count": 3,
   "id": "7b88da6a",
   "metadata": {},
   "outputs": [
    {
     "data": {
      "text/html": [
       "<div>\n",
       "<style scoped>\n",
       "    .dataframe tbody tr th:only-of-type {\n",
       "        vertical-align: middle;\n",
       "    }\n",
       "\n",
       "    .dataframe tbody tr th {\n",
       "        vertical-align: top;\n",
       "    }\n",
       "\n",
       "    .dataframe thead th {\n",
       "        text-align: right;\n",
       "    }\n",
       "</style>\n",
       "<table border=\"1\" class=\"dataframe\">\n",
       "  <thead>\n",
       "    <tr style=\"text-align: right;\">\n",
       "      <th></th>\n",
       "      <th>date</th>\n",
       "      <th>location</th>\n",
       "      <th>new_cases</th>\n",
       "      <th>new_deaths</th>\n",
       "      <th>total_cases</th>\n",
       "      <th>total_deaths</th>\n",
       "      <th>weekly_cases</th>\n",
       "      <th>weekly_deaths</th>\n",
       "      <th>biweekly_cases</th>\n",
       "      <th>biweekly_deaths</th>\n",
       "    </tr>\n",
       "  </thead>\n",
       "  <tbody>\n",
       "    <tr>\n",
       "      <th>0</th>\n",
       "      <td>2020-02-24</td>\n",
       "      <td>Afghanistan</td>\n",
       "      <td>5.0</td>\n",
       "      <td>NaN</td>\n",
       "      <td>5.0</td>\n",
       "      <td>NaN</td>\n",
       "      <td>NaN</td>\n",
       "      <td>NaN</td>\n",
       "      <td>NaN</td>\n",
       "      <td>NaN</td>\n",
       "    </tr>\n",
       "    <tr>\n",
       "      <th>1</th>\n",
       "      <td>2020-02-25</td>\n",
       "      <td>Afghanistan</td>\n",
       "      <td>0.0</td>\n",
       "      <td>NaN</td>\n",
       "      <td>5.0</td>\n",
       "      <td>NaN</td>\n",
       "      <td>NaN</td>\n",
       "      <td>NaN</td>\n",
       "      <td>NaN</td>\n",
       "      <td>NaN</td>\n",
       "    </tr>\n",
       "    <tr>\n",
       "      <th>2</th>\n",
       "      <td>2020-02-26</td>\n",
       "      <td>Afghanistan</td>\n",
       "      <td>0.0</td>\n",
       "      <td>NaN</td>\n",
       "      <td>5.0</td>\n",
       "      <td>NaN</td>\n",
       "      <td>NaN</td>\n",
       "      <td>NaN</td>\n",
       "      <td>NaN</td>\n",
       "      <td>NaN</td>\n",
       "    </tr>\n",
       "    <tr>\n",
       "      <th>3</th>\n",
       "      <td>2020-02-27</td>\n",
       "      <td>Afghanistan</td>\n",
       "      <td>0.0</td>\n",
       "      <td>NaN</td>\n",
       "      <td>5.0</td>\n",
       "      <td>NaN</td>\n",
       "      <td>NaN</td>\n",
       "      <td>NaN</td>\n",
       "      <td>NaN</td>\n",
       "      <td>NaN</td>\n",
       "    </tr>\n",
       "    <tr>\n",
       "      <th>4</th>\n",
       "      <td>2020-02-28</td>\n",
       "      <td>Afghanistan</td>\n",
       "      <td>0.0</td>\n",
       "      <td>NaN</td>\n",
       "      <td>5.0</td>\n",
       "      <td>NaN</td>\n",
       "      <td>NaN</td>\n",
       "      <td>NaN</td>\n",
       "      <td>NaN</td>\n",
       "      <td>NaN</td>\n",
       "    </tr>\n",
       "    <tr>\n",
       "      <th>...</th>\n",
       "      <td>...</td>\n",
       "      <td>...</td>\n",
       "      <td>...</td>\n",
       "      <td>...</td>\n",
       "      <td>...</td>\n",
       "      <td>...</td>\n",
       "      <td>...</td>\n",
       "      <td>...</td>\n",
       "      <td>...</td>\n",
       "      <td>...</td>\n",
       "    </tr>\n",
       "    <tr>\n",
       "      <th>173784</th>\n",
       "      <td>2022-04-16</td>\n",
       "      <td>Zimbabwe</td>\n",
       "      <td>0.0</td>\n",
       "      <td>0.0</td>\n",
       "      <td>247237.0</td>\n",
       "      <td>5462.0</td>\n",
       "      <td>312.0</td>\n",
       "      <td>5.0</td>\n",
       "      <td>756.0</td>\n",
       "      <td>16.0</td>\n",
       "    </tr>\n",
       "    <tr>\n",
       "      <th>173785</th>\n",
       "      <td>2022-04-17</td>\n",
       "      <td>Zimbabwe</td>\n",
       "      <td>41.0</td>\n",
       "      <td>1.0</td>\n",
       "      <td>247278.0</td>\n",
       "      <td>5463.0</td>\n",
       "      <td>320.0</td>\n",
       "      <td>6.0</td>\n",
       "      <td>753.0</td>\n",
       "      <td>17.0</td>\n",
       "    </tr>\n",
       "    <tr>\n",
       "      <th>173786</th>\n",
       "      <td>2022-04-18</td>\n",
       "      <td>Zimbabwe</td>\n",
       "      <td>19.0</td>\n",
       "      <td>1.0</td>\n",
       "      <td>247297.0</td>\n",
       "      <td>5464.0</td>\n",
       "      <td>287.0</td>\n",
       "      <td>4.0</td>\n",
       "      <td>685.0</td>\n",
       "      <td>13.0</td>\n",
       "    </tr>\n",
       "    <tr>\n",
       "      <th>173787</th>\n",
       "      <td>2022-04-19</td>\n",
       "      <td>Zimbabwe</td>\n",
       "      <td>0.0</td>\n",
       "      <td>0.0</td>\n",
       "      <td>247297.0</td>\n",
       "      <td>5464.0</td>\n",
       "      <td>203.0</td>\n",
       "      <td>4.0</td>\n",
       "      <td>553.0</td>\n",
       "      <td>13.0</td>\n",
       "    </tr>\n",
       "    <tr>\n",
       "      <th>173788</th>\n",
       "      <td>2022-04-20</td>\n",
       "      <td>Zimbabwe</td>\n",
       "      <td>39.0</td>\n",
       "      <td>2.0</td>\n",
       "      <td>247336.0</td>\n",
       "      <td>5466.0</td>\n",
       "      <td>176.0</td>\n",
       "      <td>6.0</td>\n",
       "      <td>533.0</td>\n",
       "      <td>13.0</td>\n",
       "    </tr>\n",
       "  </tbody>\n",
       "</table>\n",
       "<p>173789 rows × 10 columns</p>\n",
       "</div>"
      ],
      "text/plain": [
       "              date     location  new_cases  new_deaths  total_cases  \\\n",
       "0       2020-02-24  Afghanistan        5.0         NaN          5.0   \n",
       "1       2020-02-25  Afghanistan        0.0         NaN          5.0   \n",
       "2       2020-02-26  Afghanistan        0.0         NaN          5.0   \n",
       "3       2020-02-27  Afghanistan        0.0         NaN          5.0   \n",
       "4       2020-02-28  Afghanistan        0.0         NaN          5.0   \n",
       "...            ...          ...        ...         ...          ...   \n",
       "173784  2022-04-16     Zimbabwe        0.0         0.0     247237.0   \n",
       "173785  2022-04-17     Zimbabwe       41.0         1.0     247278.0   \n",
       "173786  2022-04-18     Zimbabwe       19.0         1.0     247297.0   \n",
       "173787  2022-04-19     Zimbabwe        0.0         0.0     247297.0   \n",
       "173788  2022-04-20     Zimbabwe       39.0         2.0     247336.0   \n",
       "\n",
       "        total_deaths  weekly_cases  weekly_deaths  biweekly_cases  \\\n",
       "0                NaN           NaN            NaN             NaN   \n",
       "1                NaN           NaN            NaN             NaN   \n",
       "2                NaN           NaN            NaN             NaN   \n",
       "3                NaN           NaN            NaN             NaN   \n",
       "4                NaN           NaN            NaN             NaN   \n",
       "...              ...           ...            ...             ...   \n",
       "173784        5462.0         312.0            5.0           756.0   \n",
       "173785        5463.0         320.0            6.0           753.0   \n",
       "173786        5464.0         287.0            4.0           685.0   \n",
       "173787        5464.0         203.0            4.0           553.0   \n",
       "173788        5466.0         176.0            6.0           533.0   \n",
       "\n",
       "        biweekly_deaths  \n",
       "0                   NaN  \n",
       "1                   NaN  \n",
       "2                   NaN  \n",
       "3                   NaN  \n",
       "4                   NaN  \n",
       "...                 ...  \n",
       "173784             16.0  \n",
       "173785             17.0  \n",
       "173786             13.0  \n",
       "173787             13.0  \n",
       "173788             13.0  \n",
       "\n",
       "[173789 rows x 10 columns]"
      ]
     },
     "metadata": {},
     "output_type": "display_data"
    }
   ],
   "source": [
    "#print my three different dataframes to check all data\n",
    "\n",
    "display(covid_data_df)"
   ]
  },
  {
   "cell_type": "code",
   "execution_count": 4,
   "id": "9afd0fde",
   "metadata": {},
   "outputs": [
    {
     "data": {
      "text/html": [
       "<div>\n",
       "<style scoped>\n",
       "    .dataframe tbody tr th:only-of-type {\n",
       "        vertical-align: middle;\n",
       "    }\n",
       "\n",
       "    .dataframe tbody tr th {\n",
       "        vertical-align: top;\n",
       "    }\n",
       "\n",
       "    .dataframe thead th {\n",
       "        text-align: right;\n",
       "    }\n",
       "</style>\n",
       "<table border=\"1\" class=\"dataframe\">\n",
       "  <thead>\n",
       "    <tr style=\"text-align: right;\">\n",
       "      <th></th>\n",
       "      <th>location</th>\n",
       "      <th>date</th>\n",
       "      <th>vaccine</th>\n",
       "      <th>source_url</th>\n",
       "      <th>total_vaccinations</th>\n",
       "      <th>people_vaccinated</th>\n",
       "      <th>people_fully_vaccinated</th>\n",
       "      <th>total_boosters</th>\n",
       "    </tr>\n",
       "  </thead>\n",
       "  <tbody>\n",
       "    <tr>\n",
       "      <th>0</th>\n",
       "      <td>Bangladesh</td>\n",
       "      <td>1/26/2021</td>\n",
       "      <td>Oxford/AstraZeneca</td>\n",
       "      <td>https://www.dhakatribune.com/health/coronaviru...</td>\n",
       "      <td>0</td>\n",
       "      <td>0</td>\n",
       "      <td>NaN</td>\n",
       "      <td>NaN</td>\n",
       "    </tr>\n",
       "    <tr>\n",
       "      <th>1</th>\n",
       "      <td>Bangladesh</td>\n",
       "      <td>1/27/2021</td>\n",
       "      <td>Oxford/AstraZeneca</td>\n",
       "      <td>https://www.dhakatribune.com/health/coronaviru...</td>\n",
       "      <td>26</td>\n",
       "      <td>26</td>\n",
       "      <td>NaN</td>\n",
       "      <td>NaN</td>\n",
       "    </tr>\n",
       "    <tr>\n",
       "      <th>2</th>\n",
       "      <td>Bangladesh</td>\n",
       "      <td>1/28/2021</td>\n",
       "      <td>Oxford/AstraZeneca</td>\n",
       "      <td>https://www.dhakatribune.com/health/coronaviru...</td>\n",
       "      <td>567</td>\n",
       "      <td>567</td>\n",
       "      <td>NaN</td>\n",
       "      <td>NaN</td>\n",
       "    </tr>\n",
       "    <tr>\n",
       "      <th>3</th>\n",
       "      <td>Bangladesh</td>\n",
       "      <td>2/7/2021</td>\n",
       "      <td>Oxford/AstraZeneca</td>\n",
       "      <td>https://bdnews24.com/bangladesh/2021/02/08/ban...</td>\n",
       "      <td>31160</td>\n",
       "      <td>31160</td>\n",
       "      <td>NaN</td>\n",
       "      <td>NaN</td>\n",
       "    </tr>\n",
       "    <tr>\n",
       "      <th>4</th>\n",
       "      <td>Bangladesh</td>\n",
       "      <td>2/9/2021</td>\n",
       "      <td>Oxford/AstraZeneca</td>\n",
       "      <td>https://www.dhakatribune.com/bangladesh/2021/0...</td>\n",
       "      <td>179318</td>\n",
       "      <td>179318</td>\n",
       "      <td>NaN</td>\n",
       "      <td>NaN</td>\n",
       "    </tr>\n",
       "    <tr>\n",
       "      <th>...</th>\n",
       "      <td>...</td>\n",
       "      <td>...</td>\n",
       "      <td>...</td>\n",
       "      <td>...</td>\n",
       "      <td>...</td>\n",
       "      <td>...</td>\n",
       "      <td>...</td>\n",
       "      <td>...</td>\n",
       "    </tr>\n",
       "    <tr>\n",
       "      <th>251</th>\n",
       "      <td>Bangladesh</td>\n",
       "      <td>4/11/2022</td>\n",
       "      <td>Johnson&amp;Johnson, Moderna, Oxford/AstraZeneca, ...</td>\n",
       "      <td>http://103.247.238.92/webportal/pages/covid19-...</td>\n",
       "      <td>254227836</td>\n",
       "      <td>128456500</td>\n",
       "      <td>115146677.0</td>\n",
       "      <td>10835694.0</td>\n",
       "    </tr>\n",
       "    <tr>\n",
       "      <th>252</th>\n",
       "      <td>Bangladesh</td>\n",
       "      <td>4/17/2022</td>\n",
       "      <td>Johnson&amp;Johnson, Moderna, Oxford/AstraZeneca, ...</td>\n",
       "      <td>http://103.247.238.92/webportal/pages/covid19-...</td>\n",
       "      <td>255102992</td>\n",
       "      <td>128566787</td>\n",
       "      <td>115489411.0</td>\n",
       "      <td>11259350.0</td>\n",
       "    </tr>\n",
       "    <tr>\n",
       "      <th>253</th>\n",
       "      <td>Bangladesh</td>\n",
       "      <td>4/18/2022</td>\n",
       "      <td>Johnson&amp;Johnson, Moderna, Oxford/AstraZeneca, ...</td>\n",
       "      <td>http://103.247.238.92/webportal/pages/covid19-...</td>\n",
       "      <td>255597907</td>\n",
       "      <td>128628475</td>\n",
       "      <td>115666598.0</td>\n",
       "      <td>11515635.0</td>\n",
       "    </tr>\n",
       "    <tr>\n",
       "      <th>254</th>\n",
       "      <td>Bangladesh</td>\n",
       "      <td>4/19/2022</td>\n",
       "      <td>Johnson&amp;Johnson, Moderna, Oxford/AstraZeneca, ...</td>\n",
       "      <td>http://103.247.238.92/webportal/pages/covid19-...</td>\n",
       "      <td>255808159</td>\n",
       "      <td>128642674</td>\n",
       "      <td>115738651.0</td>\n",
       "      <td>11639929.0</td>\n",
       "    </tr>\n",
       "    <tr>\n",
       "      <th>255</th>\n",
       "      <td>Bangladesh</td>\n",
       "      <td>4/20/2022</td>\n",
       "      <td>Johnson&amp;Johnson, Moderna, Oxford/AstraZeneca, ...</td>\n",
       "      <td>http://103.247.238.92/webportal/pages/covid19-...</td>\n",
       "      <td>256016234</td>\n",
       "      <td>128660443</td>\n",
       "      <td>115817367.0</td>\n",
       "      <td>11751820.0</td>\n",
       "    </tr>\n",
       "  </tbody>\n",
       "</table>\n",
       "<p>256 rows × 8 columns</p>\n",
       "</div>"
      ],
      "text/plain": [
       "       location       date                                            vaccine  \\\n",
       "0    Bangladesh  1/26/2021                                 Oxford/AstraZeneca   \n",
       "1    Bangladesh  1/27/2021                                 Oxford/AstraZeneca   \n",
       "2    Bangladesh  1/28/2021                                 Oxford/AstraZeneca   \n",
       "3    Bangladesh   2/7/2021                                 Oxford/AstraZeneca   \n",
       "4    Bangladesh   2/9/2021                                 Oxford/AstraZeneca   \n",
       "..          ...        ...                                                ...   \n",
       "251  Bangladesh  4/11/2022  Johnson&Johnson, Moderna, Oxford/AstraZeneca, ...   \n",
       "252  Bangladesh  4/17/2022  Johnson&Johnson, Moderna, Oxford/AstraZeneca, ...   \n",
       "253  Bangladesh  4/18/2022  Johnson&Johnson, Moderna, Oxford/AstraZeneca, ...   \n",
       "254  Bangladesh  4/19/2022  Johnson&Johnson, Moderna, Oxford/AstraZeneca, ...   \n",
       "255  Bangladesh  4/20/2022  Johnson&Johnson, Moderna, Oxford/AstraZeneca, ...   \n",
       "\n",
       "                                            source_url  total_vaccinations  \\\n",
       "0    https://www.dhakatribune.com/health/coronaviru...                   0   \n",
       "1    https://www.dhakatribune.com/health/coronaviru...                  26   \n",
       "2    https://www.dhakatribune.com/health/coronaviru...                 567   \n",
       "3    https://bdnews24.com/bangladesh/2021/02/08/ban...               31160   \n",
       "4    https://www.dhakatribune.com/bangladesh/2021/0...              179318   \n",
       "..                                                 ...                 ...   \n",
       "251  http://103.247.238.92/webportal/pages/covid19-...           254227836   \n",
       "252  http://103.247.238.92/webportal/pages/covid19-...           255102992   \n",
       "253  http://103.247.238.92/webportal/pages/covid19-...           255597907   \n",
       "254  http://103.247.238.92/webportal/pages/covid19-...           255808159   \n",
       "255  http://103.247.238.92/webportal/pages/covid19-...           256016234   \n",
       "\n",
       "     people_vaccinated  people_fully_vaccinated  total_boosters  \n",
       "0                    0                      NaN             NaN  \n",
       "1                   26                      NaN             NaN  \n",
       "2                  567                      NaN             NaN  \n",
       "3                31160                      NaN             NaN  \n",
       "4               179318                      NaN             NaN  \n",
       "..                 ...                      ...             ...  \n",
       "251          128456500              115146677.0      10835694.0  \n",
       "252          128566787              115489411.0      11259350.0  \n",
       "253          128628475              115666598.0      11515635.0  \n",
       "254          128642674              115738651.0      11639929.0  \n",
       "255          128660443              115817367.0      11751820.0  \n",
       "\n",
       "[256 rows x 8 columns]"
      ]
     },
     "metadata": {},
     "output_type": "display_data"
    }
   ],
   "source": [
    "display(covid_vaccine_df)"
   ]
  },
  {
   "cell_type": "code",
   "execution_count": 5,
   "id": "d1fad5cc",
   "metadata": {},
   "outputs": [
    {
     "data": {
      "text/html": [
       "<div>\n",
       "<style scoped>\n",
       "    .dataframe tbody tr th:only-of-type {\n",
       "        vertical-align: middle;\n",
       "    }\n",
       "\n",
       "    .dataframe tbody tr th {\n",
       "        vertical-align: top;\n",
       "    }\n",
       "\n",
       "    .dataframe thead th {\n",
       "        text-align: right;\n",
       "    }\n",
       "</style>\n",
       "<table border=\"1\" class=\"dataframe\">\n",
       "  <thead>\n",
       "    <tr style=\"text-align: right;\">\n",
       "      <th></th>\n",
       "      <th>entity</th>\n",
       "      <th>iso_code</th>\n",
       "      <th>date</th>\n",
       "      <th>indicator</th>\n",
       "      <th>value</th>\n",
       "    </tr>\n",
       "  </thead>\n",
       "  <tbody>\n",
       "    <tr>\n",
       "      <th>0</th>\n",
       "      <td>Algeria</td>\n",
       "      <td>DZA</td>\n",
       "      <td>7/17/2020</td>\n",
       "      <td>Daily ICU occupancy</td>\n",
       "      <td>62.000</td>\n",
       "    </tr>\n",
       "    <tr>\n",
       "      <th>1</th>\n",
       "      <td>Algeria</td>\n",
       "      <td>DZA</td>\n",
       "      <td>7/17/2020</td>\n",
       "      <td>Daily ICU occupancy per million</td>\n",
       "      <td>1.390</td>\n",
       "    </tr>\n",
       "    <tr>\n",
       "      <th>2</th>\n",
       "      <td>Algeria</td>\n",
       "      <td>DZA</td>\n",
       "      <td>7/18/2020</td>\n",
       "      <td>Daily ICU occupancy</td>\n",
       "      <td>67.000</td>\n",
       "    </tr>\n",
       "    <tr>\n",
       "      <th>3</th>\n",
       "      <td>Algeria</td>\n",
       "      <td>DZA</td>\n",
       "      <td>7/18/2020</td>\n",
       "      <td>Daily ICU occupancy per million</td>\n",
       "      <td>1.502</td>\n",
       "    </tr>\n",
       "    <tr>\n",
       "      <th>4</th>\n",
       "      <td>Algeria</td>\n",
       "      <td>DZA</td>\n",
       "      <td>7/20/2020</td>\n",
       "      <td>Daily ICU occupancy</td>\n",
       "      <td>64.000</td>\n",
       "    </tr>\n",
       "    <tr>\n",
       "      <th>...</th>\n",
       "      <td>...</td>\n",
       "      <td>...</td>\n",
       "      <td>...</td>\n",
       "      <td>...</td>\n",
       "      <td>...</td>\n",
       "    </tr>\n",
       "    <tr>\n",
       "      <th>137953</th>\n",
       "      <td>United States</td>\n",
       "      <td>USA</td>\n",
       "      <td>4/19/2022</td>\n",
       "      <td>Daily ICU occupancy per million</td>\n",
       "      <td>4.491</td>\n",
       "    </tr>\n",
       "    <tr>\n",
       "      <th>137954</th>\n",
       "      <td>United States</td>\n",
       "      <td>USA</td>\n",
       "      <td>4/19/2022</td>\n",
       "      <td>Daily hospital occupancy</td>\n",
       "      <td>10745.000</td>\n",
       "    </tr>\n",
       "    <tr>\n",
       "      <th>137955</th>\n",
       "      <td>United States</td>\n",
       "      <td>USA</td>\n",
       "      <td>4/19/2022</td>\n",
       "      <td>Daily hospital occupancy per million</td>\n",
       "      <td>32.275</td>\n",
       "    </tr>\n",
       "    <tr>\n",
       "      <th>137956</th>\n",
       "      <td>United States</td>\n",
       "      <td>USA</td>\n",
       "      <td>4/19/2022</td>\n",
       "      <td>Weekly new hospital admissions</td>\n",
       "      <td>11476.000</td>\n",
       "    </tr>\n",
       "    <tr>\n",
       "      <th>137957</th>\n",
       "      <td>United States</td>\n",
       "      <td>USA</td>\n",
       "      <td>4/19/2022</td>\n",
       "      <td>Weekly new hospital admissions per million</td>\n",
       "      <td>34.471</td>\n",
       "    </tr>\n",
       "  </tbody>\n",
       "</table>\n",
       "<p>137958 rows × 5 columns</p>\n",
       "</div>"
      ],
      "text/plain": [
       "               entity iso_code       date  \\\n",
       "0             Algeria      DZA  7/17/2020   \n",
       "1             Algeria      DZA  7/17/2020   \n",
       "2             Algeria      DZA  7/18/2020   \n",
       "3             Algeria      DZA  7/18/2020   \n",
       "4             Algeria      DZA  7/20/2020   \n",
       "...               ...      ...        ...   \n",
       "137953  United States      USA  4/19/2022   \n",
       "137954  United States      USA  4/19/2022   \n",
       "137955  United States      USA  4/19/2022   \n",
       "137956  United States      USA  4/19/2022   \n",
       "137957  United States      USA  4/19/2022   \n",
       "\n",
       "                                         indicator      value  \n",
       "0                              Daily ICU occupancy     62.000  \n",
       "1                  Daily ICU occupancy per million      1.390  \n",
       "2                              Daily ICU occupancy     67.000  \n",
       "3                  Daily ICU occupancy per million      1.502  \n",
       "4                              Daily ICU occupancy     64.000  \n",
       "...                                            ...        ...  \n",
       "137953             Daily ICU occupancy per million      4.491  \n",
       "137954                    Daily hospital occupancy  10745.000  \n",
       "137955        Daily hospital occupancy per million     32.275  \n",
       "137956              Weekly new hospital admissions  11476.000  \n",
       "137957  Weekly new hospital admissions per million     34.471  \n",
       "\n",
       "[137958 rows x 5 columns]"
      ]
     },
     "metadata": {},
     "output_type": "display_data"
    }
   ],
   "source": [
    "display(covid_hospital_df)"
   ]
  },
  {
   "cell_type": "markdown",
   "id": "54d17903",
   "metadata": {},
   "source": [
    "## Part 1.3: Data cleaning"
   ]
  },
  {
   "cell_type": "code",
   "execution_count": 6,
   "id": "c868f8c2",
   "metadata": {},
   "outputs": [
    {
     "name": "stderr",
     "output_type": "stream",
     "text": [
      "C:\\Anaconda\\lib\\site-packages\\pandas\\core\\frame.py:4906: SettingWithCopyWarning:\n",
      "\n",
      "\n",
      "A value is trying to be set on a copy of a slice from a DataFrame\n",
      "\n",
      "See the caveats in the documentation: https://pandas.pydata.org/pandas-docs/stable/user_guide/indexing.html#returning-a-view-versus-a-copy\n",
      "\n",
      "C:\\Users\\HP Pavilion Gaming\\AppData\\Local\\Temp\\ipykernel_13800\\1984675664.py:18: SettingWithCopyWarning:\n",
      "\n",
      "\n",
      "A value is trying to be set on a copy of a slice from a DataFrame.\n",
      "Try using .loc[row_indexer,col_indexer] = value instead\n",
      "\n",
      "See the caveats in the documentation: https://pandas.pydata.org/pandas-docs/stable/user_guide/indexing.html#returning-a-view-versus-a-copy\n",
      "\n"
     ]
    }
   ],
   "source": [
    "def clean_dataframe(input_df):\n",
    "    \"\"\"\n",
    "    This function drops unnecessary columns, rename column names, filter the data, change datatypes\n",
    "    input:  all three dataframe\n",
    "    output: all three cleaned dataframe\n",
    "    \"\"\"\n",
    "     #Rename different column \n",
    "    input_df.rename(columns={\"entity\": \"location\"}, errors='ignore', inplace=True)\n",
    "    \n",
    "    #Filtering data of Bangladesh for further use\n",
    "    input_df = input_df[input_df['location'] == 'Bangladesh']\n",
    "    \n",
    "    #Drop unnecessary columns\n",
    "    input_df.drop(columns=['source_url', 'location', 'iso_code', 'vaccine', 'biweekly_cases', \n",
    "                           'biweekly_deaths'], errors='ignore', inplace=True)\n",
    "   \n",
    "    #Change date column datatype \n",
    "    input_df[\"date\"] = pd.to_datetime(input_df[\"date\"], dayfirst=False)\n",
    "    input_df = input_df[~(input_df['date'] > '2022-04-20')]\n",
    "\n",
    "    return input_df\n",
    "\n",
    "#Call the function to clean all dataframes \n",
    "clean_covid_data_df = clean_dataframe(covid_data_df)\n",
    "clean_covid_vaccine_df = clean_dataframe(covid_vaccine_df)\n",
    "clean_covid_hospital_df = clean_dataframe(covid_hospital_df)\n",
    "\n",
    "\n",
    "# Creating new dataframes for convenience\n",
    "\n",
    "hospital_df = clean_covid_hospital_df[clean_covid_hospital_df['indicator'] == 'Daily hospital occupancy']\n",
    "#hosp_df.set_index(hosp_df['date'], inplace=True)\n",
    "\n",
    "icu_df = clean_covid_hospital_df[clean_covid_hospital_df['indicator'] == 'Daily ICU occupancy']\n",
    "#icu_df.set_index(icu_df['date'], inplace=True)"
   ]
  },
  {
   "cell_type": "markdown",
   "id": "99abb2ee",
   "metadata": {},
   "source": [
    "## Part 1.4: Merging datasets"
   ]
  },
  {
   "cell_type": "code",
   "execution_count": 7,
   "id": "34815a22",
   "metadata": {},
   "outputs": [],
   "source": [
    "#Function to Merge dataframes\n",
    "def merge_dataframes(first_df,second_df):\n",
    "    final_dataframe = pd.merge(first_df, second_df, how=\"left\", on=[\"date\"])\n",
    "\n",
    "    return final_dataframe\n",
    "\n",
    "def merge_dataframes(first_df,second_df):\n",
    "    final_dataframe_2 = pd.merge(first_df, second_df, how=\"left\", on=[\"date\"])\n",
    "\n",
    "    return final_dataframe_2\n",
    "\n",
    "#Call merge function to merge all three dataframes together \n",
    "final_dataframe = merge_dataframes(hospital_df, clean_covid_data_df)\n",
    "final_dataframe = merge_dataframes(final_dataframe,clean_covid_vaccine_df)\n",
    "\n",
    "final_dataframe_2 = merge_dataframes(icu_df, clean_covid_data_df)\n",
    "final_dataframe_2 = merge_dataframes(final_dataframe_2,clean_covid_vaccine_df)\n",
    "\n",
    "#set date as index\n",
    "final_dataframe.set_index(final_dataframe['date'], inplace=True)\n",
    "final_dataframe_2.set_index(final_dataframe_2['date'], inplace=True)\n",
    "\n",
    "final_dataframe.drop(columns=['year', 'month'], errors='ignore', inplace=True)\n",
    "final_dataframe_2.drop(columns=['year', 'month'], errors='ignore', inplace=True)"
   ]
  },
  {
   "cell_type": "code",
   "execution_count": 8,
   "id": "bfb121f1",
   "metadata": {},
   "outputs": [
    {
     "data": {
      "text/html": [
       "<div>\n",
       "<style scoped>\n",
       "    .dataframe tbody tr th:only-of-type {\n",
       "        vertical-align: middle;\n",
       "    }\n",
       "\n",
       "    .dataframe tbody tr th {\n",
       "        vertical-align: top;\n",
       "    }\n",
       "\n",
       "    .dataframe thead th {\n",
       "        text-align: right;\n",
       "    }\n",
       "</style>\n",
       "<table border=\"1\" class=\"dataframe\">\n",
       "  <thead>\n",
       "    <tr style=\"text-align: right;\">\n",
       "      <th></th>\n",
       "      <th>date</th>\n",
       "      <th>indicator</th>\n",
       "      <th>value</th>\n",
       "      <th>new_cases</th>\n",
       "      <th>new_deaths</th>\n",
       "      <th>total_cases</th>\n",
       "      <th>total_deaths</th>\n",
       "      <th>weekly_cases</th>\n",
       "      <th>weekly_deaths</th>\n",
       "      <th>total_vaccinations</th>\n",
       "      <th>people_vaccinated</th>\n",
       "      <th>people_fully_vaccinated</th>\n",
       "      <th>total_boosters</th>\n",
       "    </tr>\n",
       "    <tr>\n",
       "      <th>date</th>\n",
       "      <th></th>\n",
       "      <th></th>\n",
       "      <th></th>\n",
       "      <th></th>\n",
       "      <th></th>\n",
       "      <th></th>\n",
       "      <th></th>\n",
       "      <th></th>\n",
       "      <th></th>\n",
       "      <th></th>\n",
       "      <th></th>\n",
       "      <th></th>\n",
       "      <th></th>\n",
       "    </tr>\n",
       "  </thead>\n",
       "  <tbody>\n",
       "    <tr>\n",
       "      <th>2020-03-08</th>\n",
       "      <td>2020-03-08</td>\n",
       "      <td>Daily hospital occupancy</td>\n",
       "      <td>0.0</td>\n",
       "      <td>3.0</td>\n",
       "      <td>NaN</td>\n",
       "      <td>3.0</td>\n",
       "      <td>NaN</td>\n",
       "      <td>NaN</td>\n",
       "      <td>NaN</td>\n",
       "      <td>NaN</td>\n",
       "      <td>NaN</td>\n",
       "      <td>NaN</td>\n",
       "      <td>NaN</td>\n",
       "    </tr>\n",
       "    <tr>\n",
       "      <th>2020-03-09</th>\n",
       "      <td>2020-03-09</td>\n",
       "      <td>Daily hospital occupancy</td>\n",
       "      <td>0.0</td>\n",
       "      <td>0.0</td>\n",
       "      <td>NaN</td>\n",
       "      <td>3.0</td>\n",
       "      <td>NaN</td>\n",
       "      <td>NaN</td>\n",
       "      <td>NaN</td>\n",
       "      <td>NaN</td>\n",
       "      <td>NaN</td>\n",
       "      <td>NaN</td>\n",
       "      <td>NaN</td>\n",
       "    </tr>\n",
       "    <tr>\n",
       "      <th>2020-03-10</th>\n",
       "      <td>2020-03-10</td>\n",
       "      <td>Daily hospital occupancy</td>\n",
       "      <td>0.0</td>\n",
       "      <td>0.0</td>\n",
       "      <td>NaN</td>\n",
       "      <td>3.0</td>\n",
       "      <td>NaN</td>\n",
       "      <td>NaN</td>\n",
       "      <td>NaN</td>\n",
       "      <td>NaN</td>\n",
       "      <td>NaN</td>\n",
       "      <td>NaN</td>\n",
       "      <td>NaN</td>\n",
       "    </tr>\n",
       "    <tr>\n",
       "      <th>2020-03-11</th>\n",
       "      <td>2020-03-11</td>\n",
       "      <td>Daily hospital occupancy</td>\n",
       "      <td>0.0</td>\n",
       "      <td>0.0</td>\n",
       "      <td>NaN</td>\n",
       "      <td>3.0</td>\n",
       "      <td>NaN</td>\n",
       "      <td>NaN</td>\n",
       "      <td>NaN</td>\n",
       "      <td>NaN</td>\n",
       "      <td>NaN</td>\n",
       "      <td>NaN</td>\n",
       "      <td>NaN</td>\n",
       "    </tr>\n",
       "    <tr>\n",
       "      <th>2020-03-12</th>\n",
       "      <td>2020-03-12</td>\n",
       "      <td>Daily hospital occupancy</td>\n",
       "      <td>0.0</td>\n",
       "      <td>0.0</td>\n",
       "      <td>NaN</td>\n",
       "      <td>3.0</td>\n",
       "      <td>NaN</td>\n",
       "      <td>NaN</td>\n",
       "      <td>NaN</td>\n",
       "      <td>NaN</td>\n",
       "      <td>NaN</td>\n",
       "      <td>NaN</td>\n",
       "      <td>NaN</td>\n",
       "    </tr>\n",
       "  </tbody>\n",
       "</table>\n",
       "</div>"
      ],
      "text/plain": [
       "                 date                 indicator  value  new_cases  new_deaths  \\\n",
       "date                                                                            \n",
       "2020-03-08 2020-03-08  Daily hospital occupancy    0.0        3.0         NaN   \n",
       "2020-03-09 2020-03-09  Daily hospital occupancy    0.0        0.0         NaN   \n",
       "2020-03-10 2020-03-10  Daily hospital occupancy    0.0        0.0         NaN   \n",
       "2020-03-11 2020-03-11  Daily hospital occupancy    0.0        0.0         NaN   \n",
       "2020-03-12 2020-03-12  Daily hospital occupancy    0.0        0.0         NaN   \n",
       "\n",
       "            total_cases  total_deaths  weekly_cases  weekly_deaths  \\\n",
       "date                                                                 \n",
       "2020-03-08          3.0           NaN           NaN            NaN   \n",
       "2020-03-09          3.0           NaN           NaN            NaN   \n",
       "2020-03-10          3.0           NaN           NaN            NaN   \n",
       "2020-03-11          3.0           NaN           NaN            NaN   \n",
       "2020-03-12          3.0           NaN           NaN            NaN   \n",
       "\n",
       "            total_vaccinations  people_vaccinated  people_fully_vaccinated  \\\n",
       "date                                                                         \n",
       "2020-03-08                 NaN                NaN                      NaN   \n",
       "2020-03-09                 NaN                NaN                      NaN   \n",
       "2020-03-10                 NaN                NaN                      NaN   \n",
       "2020-03-11                 NaN                NaN                      NaN   \n",
       "2020-03-12                 NaN                NaN                      NaN   \n",
       "\n",
       "            total_boosters  \n",
       "date                        \n",
       "2020-03-08             NaN  \n",
       "2020-03-09             NaN  \n",
       "2020-03-10             NaN  \n",
       "2020-03-11             NaN  \n",
       "2020-03-12             NaN  "
      ]
     },
     "metadata": {},
     "output_type": "display_data"
    },
    {
     "data": {
      "text/plain": [
       "date                       datetime64[ns]\n",
       "indicator                          object\n",
       "value                             float64\n",
       "new_cases                         float64\n",
       "new_deaths                        float64\n",
       "total_cases                       float64\n",
       "total_deaths                      float64\n",
       "weekly_cases                      float64\n",
       "weekly_deaths                     float64\n",
       "total_vaccinations                float64\n",
       "people_vaccinated                 float64\n",
       "people_fully_vaccinated           float64\n",
       "total_boosters                    float64\n",
       "dtype: object"
      ]
     },
     "metadata": {},
     "output_type": "display_data"
    }
   ],
   "source": [
    "display(final_dataframe.head(5))\n",
    "display(final_dataframe.dtypes)"
   ]
  },
  {
   "cell_type": "code",
   "execution_count": 9,
   "id": "0889f5d5",
   "metadata": {},
   "outputs": [
    {
     "data": {
      "text/html": [
       "<div>\n",
       "<style scoped>\n",
       "    .dataframe tbody tr th:only-of-type {\n",
       "        vertical-align: middle;\n",
       "    }\n",
       "\n",
       "    .dataframe tbody tr th {\n",
       "        vertical-align: top;\n",
       "    }\n",
       "\n",
       "    .dataframe thead th {\n",
       "        text-align: right;\n",
       "    }\n",
       "</style>\n",
       "<table border=\"1\" class=\"dataframe\">\n",
       "  <thead>\n",
       "    <tr style=\"text-align: right;\">\n",
       "      <th></th>\n",
       "      <th>date</th>\n",
       "      <th>indicator</th>\n",
       "      <th>value</th>\n",
       "      <th>new_cases</th>\n",
       "      <th>new_deaths</th>\n",
       "      <th>total_cases</th>\n",
       "      <th>total_deaths</th>\n",
       "      <th>weekly_cases</th>\n",
       "      <th>weekly_deaths</th>\n",
       "      <th>total_vaccinations</th>\n",
       "      <th>people_vaccinated</th>\n",
       "      <th>people_fully_vaccinated</th>\n",
       "      <th>total_boosters</th>\n",
       "    </tr>\n",
       "    <tr>\n",
       "      <th>date</th>\n",
       "      <th></th>\n",
       "      <th></th>\n",
       "      <th></th>\n",
       "      <th></th>\n",
       "      <th></th>\n",
       "      <th></th>\n",
       "      <th></th>\n",
       "      <th></th>\n",
       "      <th></th>\n",
       "      <th></th>\n",
       "      <th></th>\n",
       "      <th></th>\n",
       "      <th></th>\n",
       "    </tr>\n",
       "  </thead>\n",
       "  <tbody>\n",
       "    <tr>\n",
       "      <th>2020-03-08</th>\n",
       "      <td>2020-03-08</td>\n",
       "      <td>Daily ICU occupancy</td>\n",
       "      <td>0.0</td>\n",
       "      <td>3.0</td>\n",
       "      <td>NaN</td>\n",
       "      <td>3.0</td>\n",
       "      <td>NaN</td>\n",
       "      <td>NaN</td>\n",
       "      <td>NaN</td>\n",
       "      <td>NaN</td>\n",
       "      <td>NaN</td>\n",
       "      <td>NaN</td>\n",
       "      <td>NaN</td>\n",
       "    </tr>\n",
       "    <tr>\n",
       "      <th>2020-03-09</th>\n",
       "      <td>2020-03-09</td>\n",
       "      <td>Daily ICU occupancy</td>\n",
       "      <td>0.0</td>\n",
       "      <td>0.0</td>\n",
       "      <td>NaN</td>\n",
       "      <td>3.0</td>\n",
       "      <td>NaN</td>\n",
       "      <td>NaN</td>\n",
       "      <td>NaN</td>\n",
       "      <td>NaN</td>\n",
       "      <td>NaN</td>\n",
       "      <td>NaN</td>\n",
       "      <td>NaN</td>\n",
       "    </tr>\n",
       "    <tr>\n",
       "      <th>2020-03-10</th>\n",
       "      <td>2020-03-10</td>\n",
       "      <td>Daily ICU occupancy</td>\n",
       "      <td>0.0</td>\n",
       "      <td>0.0</td>\n",
       "      <td>NaN</td>\n",
       "      <td>3.0</td>\n",
       "      <td>NaN</td>\n",
       "      <td>NaN</td>\n",
       "      <td>NaN</td>\n",
       "      <td>NaN</td>\n",
       "      <td>NaN</td>\n",
       "      <td>NaN</td>\n",
       "      <td>NaN</td>\n",
       "    </tr>\n",
       "    <tr>\n",
       "      <th>2020-03-11</th>\n",
       "      <td>2020-03-11</td>\n",
       "      <td>Daily ICU occupancy</td>\n",
       "      <td>0.0</td>\n",
       "      <td>0.0</td>\n",
       "      <td>NaN</td>\n",
       "      <td>3.0</td>\n",
       "      <td>NaN</td>\n",
       "      <td>NaN</td>\n",
       "      <td>NaN</td>\n",
       "      <td>NaN</td>\n",
       "      <td>NaN</td>\n",
       "      <td>NaN</td>\n",
       "      <td>NaN</td>\n",
       "    </tr>\n",
       "    <tr>\n",
       "      <th>2020-03-12</th>\n",
       "      <td>2020-03-12</td>\n",
       "      <td>Daily ICU occupancy</td>\n",
       "      <td>0.0</td>\n",
       "      <td>0.0</td>\n",
       "      <td>NaN</td>\n",
       "      <td>3.0</td>\n",
       "      <td>NaN</td>\n",
       "      <td>NaN</td>\n",
       "      <td>NaN</td>\n",
       "      <td>NaN</td>\n",
       "      <td>NaN</td>\n",
       "      <td>NaN</td>\n",
       "      <td>NaN</td>\n",
       "    </tr>\n",
       "  </tbody>\n",
       "</table>\n",
       "</div>"
      ],
      "text/plain": [
       "                 date            indicator  value  new_cases  new_deaths  \\\n",
       "date                                                                       \n",
       "2020-03-08 2020-03-08  Daily ICU occupancy    0.0        3.0         NaN   \n",
       "2020-03-09 2020-03-09  Daily ICU occupancy    0.0        0.0         NaN   \n",
       "2020-03-10 2020-03-10  Daily ICU occupancy    0.0        0.0         NaN   \n",
       "2020-03-11 2020-03-11  Daily ICU occupancy    0.0        0.0         NaN   \n",
       "2020-03-12 2020-03-12  Daily ICU occupancy    0.0        0.0         NaN   \n",
       "\n",
       "            total_cases  total_deaths  weekly_cases  weekly_deaths  \\\n",
       "date                                                                 \n",
       "2020-03-08          3.0           NaN           NaN            NaN   \n",
       "2020-03-09          3.0           NaN           NaN            NaN   \n",
       "2020-03-10          3.0           NaN           NaN            NaN   \n",
       "2020-03-11          3.0           NaN           NaN            NaN   \n",
       "2020-03-12          3.0           NaN           NaN            NaN   \n",
       "\n",
       "            total_vaccinations  people_vaccinated  people_fully_vaccinated  \\\n",
       "date                                                                         \n",
       "2020-03-08                 NaN                NaN                      NaN   \n",
       "2020-03-09                 NaN                NaN                      NaN   \n",
       "2020-03-10                 NaN                NaN                      NaN   \n",
       "2020-03-11                 NaN                NaN                      NaN   \n",
       "2020-03-12                 NaN                NaN                      NaN   \n",
       "\n",
       "            total_boosters  \n",
       "date                        \n",
       "2020-03-08             NaN  \n",
       "2020-03-09             NaN  \n",
       "2020-03-10             NaN  \n",
       "2020-03-11             NaN  \n",
       "2020-03-12             NaN  "
      ]
     },
     "metadata": {},
     "output_type": "display_data"
    },
    {
     "data": {
      "text/plain": [
       "date                       datetime64[ns]\n",
       "indicator                          object\n",
       "value                             float64\n",
       "new_cases                         float64\n",
       "new_deaths                        float64\n",
       "total_cases                       float64\n",
       "total_deaths                      float64\n",
       "weekly_cases                      float64\n",
       "weekly_deaths                     float64\n",
       "total_vaccinations                float64\n",
       "people_vaccinated                 float64\n",
       "people_fully_vaccinated           float64\n",
       "total_boosters                    float64\n",
       "dtype: object"
      ]
     },
     "metadata": {},
     "output_type": "display_data"
    }
   ],
   "source": [
    "display(final_dataframe_2.head(5))\n",
    "display(final_dataframe_2.dtypes)"
   ]
  },
  {
   "cell_type": "markdown",
   "id": "b77f8fda",
   "metadata": {},
   "source": [
    "# Part 2: Interpolating data"
   ]
  },
  {
   "cell_type": "code",
   "execution_count": 10,
   "id": "a757b0df",
   "metadata": {},
   "outputs": [],
   "source": [
    "# # Interpolate values to show a better estimation and statistics and differnet dates\n",
    "final_dataframe['total_vaccinations'].interpolate(method='linear', limit_direction='forward', inplace=True)\n",
    "final_dataframe['people_vaccinated'].interpolate(method='linear', limit_direction='forward', inplace=True)\n",
    "final_dataframe['people_fully_vaccinated'].interpolate(method='linear', limit_direction='forward', inplace=True)\n",
    "final_dataframe['total_boosters'].interpolate(method='linear', limit_direction='forward', inplace=True)\n",
    "\n",
    "final_dataframe_2['total_vaccinations'].interpolate(method='linear', limit_direction='forward', inplace=True)\n",
    "final_dataframe_2['people_vaccinated'].interpolate(method='linear', limit_direction='forward', inplace=True)\n",
    "final_dataframe_2['people_fully_vaccinated'].interpolate(method='linear', limit_direction='forward', inplace=True)\n",
    "final_dataframe_2['total_boosters'].interpolate(method='linear', limit_direction='forward', inplace=True)\n",
    "\n",
    "# change Nan values in all columns to zero\n",
    "final_dataframe = final_dataframe.fillna(0)\n",
    "final_dataframe_2 = final_dataframe_2.fillna(0)\n",
    "\n",
    "final_dataframe[[\"value\", \"new_cases\",\"new_deaths\", \"total_cases\",\"total_deaths\", \"weekly_cases\", \"weekly_deaths\", \"total_vaccinations\",\"people_vaccinated\",\n",
    "                 \"people_fully_vaccinated\",\"total_boosters\"]\n",
    "               ] = final_dataframe[[\"value\", \"new_cases\",\"new_deaths\", \"total_cases\",\"total_deaths\", \"weekly_cases\", \"weekly_deaths\", \"total_vaccinations\",\n",
    "                                    \"people_vaccinated\",\"people_fully_vaccinated\",\"total_boosters\"]\n",
    "                                  ].astype(int)\n",
    "\n",
    "final_dataframe_2[[\"value\", \"new_cases\",\"new_deaths\", \"total_cases\",\"total_deaths\", \"weekly_cases\", \"weekly_deaths\", \"total_vaccinations\",\"people_vaccinated\",\n",
    "                  \"people_fully_vaccinated\",\"total_boosters\"]\n",
    "                ] = final_dataframe_2[[\"value\", \"new_cases\",\"new_deaths\", \"total_cases\",\"total_deaths\", \"weekly_cases\", \"weekly_deaths\", \"total_vaccinations\",\n",
    "                                    \"people_vaccinated\",\"people_fully_vaccinated\",\"total_boosters\"]\n",
    "                                   ].astype(int)"
   ]
  },
  {
   "cell_type": "code",
   "execution_count": 17,
   "id": "fc8bf867",
   "metadata": {},
   "outputs": [
    {
     "data": {
      "text/plain": [
       "date                       datetime64[ns]\n",
       "indicator                          object\n",
       "value                               int32\n",
       "new_cases                           int32\n",
       "new_deaths                          int32\n",
       "total_cases                         int32\n",
       "total_deaths                        int32\n",
       "weekly_cases                        int32\n",
       "weekly_deaths                       int32\n",
       "total_vaccinations                  int32\n",
       "people_vaccinated                   int32\n",
       "people_fully_vaccinated             int32\n",
       "total_boosters                      int32\n",
       "dtype: object"
      ]
     },
     "metadata": {},
     "output_type": "display_data"
    },
    {
     "data": {
      "text/html": [
       "<div>\n",
       "<style scoped>\n",
       "    .dataframe tbody tr th:only-of-type {\n",
       "        vertical-align: middle;\n",
       "    }\n",
       "\n",
       "    .dataframe tbody tr th {\n",
       "        vertical-align: top;\n",
       "    }\n",
       "\n",
       "    .dataframe thead th {\n",
       "        text-align: right;\n",
       "    }\n",
       "</style>\n",
       "<table border=\"1\" class=\"dataframe\">\n",
       "  <thead>\n",
       "    <tr style=\"text-align: right;\">\n",
       "      <th></th>\n",
       "      <th>date</th>\n",
       "      <th>indicator</th>\n",
       "      <th>value</th>\n",
       "      <th>new_cases</th>\n",
       "      <th>new_deaths</th>\n",
       "      <th>total_cases</th>\n",
       "      <th>total_deaths</th>\n",
       "      <th>weekly_cases</th>\n",
       "      <th>weekly_deaths</th>\n",
       "      <th>total_vaccinations</th>\n",
       "      <th>people_vaccinated</th>\n",
       "      <th>people_fully_vaccinated</th>\n",
       "      <th>total_boosters</th>\n",
       "    </tr>\n",
       "    <tr>\n",
       "      <th>date</th>\n",
       "      <th></th>\n",
       "      <th></th>\n",
       "      <th></th>\n",
       "      <th></th>\n",
       "      <th></th>\n",
       "      <th></th>\n",
       "      <th></th>\n",
       "      <th></th>\n",
       "      <th></th>\n",
       "      <th></th>\n",
       "      <th></th>\n",
       "      <th></th>\n",
       "      <th></th>\n",
       "    </tr>\n",
       "  </thead>\n",
       "  <tbody>\n",
       "    <tr>\n",
       "      <th>2020-03-08</th>\n",
       "      <td>2020-03-08</td>\n",
       "      <td>Daily hospital occupancy</td>\n",
       "      <td>0</td>\n",
       "      <td>3</td>\n",
       "      <td>0</td>\n",
       "      <td>3</td>\n",
       "      <td>0</td>\n",
       "      <td>0</td>\n",
       "      <td>0</td>\n",
       "      <td>0</td>\n",
       "      <td>0</td>\n",
       "      <td>0</td>\n",
       "      <td>0</td>\n",
       "    </tr>\n",
       "    <tr>\n",
       "      <th>2020-03-09</th>\n",
       "      <td>2020-03-09</td>\n",
       "      <td>Daily hospital occupancy</td>\n",
       "      <td>0</td>\n",
       "      <td>0</td>\n",
       "      <td>0</td>\n",
       "      <td>3</td>\n",
       "      <td>0</td>\n",
       "      <td>0</td>\n",
       "      <td>0</td>\n",
       "      <td>0</td>\n",
       "      <td>0</td>\n",
       "      <td>0</td>\n",
       "      <td>0</td>\n",
       "    </tr>\n",
       "    <tr>\n",
       "      <th>2020-03-10</th>\n",
       "      <td>2020-03-10</td>\n",
       "      <td>Daily hospital occupancy</td>\n",
       "      <td>0</td>\n",
       "      <td>0</td>\n",
       "      <td>0</td>\n",
       "      <td>3</td>\n",
       "      <td>0</td>\n",
       "      <td>0</td>\n",
       "      <td>0</td>\n",
       "      <td>0</td>\n",
       "      <td>0</td>\n",
       "      <td>0</td>\n",
       "      <td>0</td>\n",
       "    </tr>\n",
       "    <tr>\n",
       "      <th>2020-03-11</th>\n",
       "      <td>2020-03-11</td>\n",
       "      <td>Daily hospital occupancy</td>\n",
       "      <td>0</td>\n",
       "      <td>0</td>\n",
       "      <td>0</td>\n",
       "      <td>3</td>\n",
       "      <td>0</td>\n",
       "      <td>0</td>\n",
       "      <td>0</td>\n",
       "      <td>0</td>\n",
       "      <td>0</td>\n",
       "      <td>0</td>\n",
       "      <td>0</td>\n",
       "    </tr>\n",
       "    <tr>\n",
       "      <th>2020-03-12</th>\n",
       "      <td>2020-03-12</td>\n",
       "      <td>Daily hospital occupancy</td>\n",
       "      <td>0</td>\n",
       "      <td>0</td>\n",
       "      <td>0</td>\n",
       "      <td>3</td>\n",
       "      <td>0</td>\n",
       "      <td>0</td>\n",
       "      <td>0</td>\n",
       "      <td>0</td>\n",
       "      <td>0</td>\n",
       "      <td>0</td>\n",
       "      <td>0</td>\n",
       "    </tr>\n",
       "  </tbody>\n",
       "</table>\n",
       "</div>"
      ],
      "text/plain": [
       "                 date                 indicator  value  new_cases  new_deaths  \\\n",
       "date                                                                            \n",
       "2020-03-08 2020-03-08  Daily hospital occupancy      0          3           0   \n",
       "2020-03-09 2020-03-09  Daily hospital occupancy      0          0           0   \n",
       "2020-03-10 2020-03-10  Daily hospital occupancy      0          0           0   \n",
       "2020-03-11 2020-03-11  Daily hospital occupancy      0          0           0   \n",
       "2020-03-12 2020-03-12  Daily hospital occupancy      0          0           0   \n",
       "\n",
       "            total_cases  total_deaths  weekly_cases  weekly_deaths  \\\n",
       "date                                                                 \n",
       "2020-03-08            3             0             0              0   \n",
       "2020-03-09            3             0             0              0   \n",
       "2020-03-10            3             0             0              0   \n",
       "2020-03-11            3             0             0              0   \n",
       "2020-03-12            3             0             0              0   \n",
       "\n",
       "            total_vaccinations  people_vaccinated  people_fully_vaccinated  \\\n",
       "date                                                                         \n",
       "2020-03-08                   0                  0                        0   \n",
       "2020-03-09                   0                  0                        0   \n",
       "2020-03-10                   0                  0                        0   \n",
       "2020-03-11                   0                  0                        0   \n",
       "2020-03-12                   0                  0                        0   \n",
       "\n",
       "            total_boosters  \n",
       "date                        \n",
       "2020-03-08               0  \n",
       "2020-03-09               0  \n",
       "2020-03-10               0  \n",
       "2020-03-11               0  \n",
       "2020-03-12               0  "
      ]
     },
     "metadata": {},
     "output_type": "display_data"
    }
   ],
   "source": [
    "display(final_dataframe.dtypes)\n",
    "display(final_dataframe.head(5))"
   ]
  },
  {
   "cell_type": "code",
   "execution_count": 11,
   "id": "1f3dc6d2",
   "metadata": {},
   "outputs": [
    {
     "data": {
      "text/plain": [
       "date                       datetime64[ns]\n",
       "indicator                          object\n",
       "value                               int32\n",
       "new_cases                           int32\n",
       "new_deaths                          int32\n",
       "total_cases                         int32\n",
       "total_deaths                        int32\n",
       "weekly_cases                        int32\n",
       "weekly_deaths                       int32\n",
       "total_vaccinations                  int32\n",
       "people_vaccinated                   int32\n",
       "people_fully_vaccinated             int32\n",
       "total_boosters                      int32\n",
       "dtype: object"
      ]
     },
     "metadata": {},
     "output_type": "display_data"
    },
    {
     "data": {
      "text/html": [
       "<div>\n",
       "<style scoped>\n",
       "    .dataframe tbody tr th:only-of-type {\n",
       "        vertical-align: middle;\n",
       "    }\n",
       "\n",
       "    .dataframe tbody tr th {\n",
       "        vertical-align: top;\n",
       "    }\n",
       "\n",
       "    .dataframe thead th {\n",
       "        text-align: right;\n",
       "    }\n",
       "</style>\n",
       "<table border=\"1\" class=\"dataframe\">\n",
       "  <thead>\n",
       "    <tr style=\"text-align: right;\">\n",
       "      <th></th>\n",
       "      <th>date</th>\n",
       "      <th>indicator</th>\n",
       "      <th>value</th>\n",
       "      <th>new_cases</th>\n",
       "      <th>new_deaths</th>\n",
       "      <th>total_cases</th>\n",
       "      <th>total_deaths</th>\n",
       "      <th>weekly_cases</th>\n",
       "      <th>weekly_deaths</th>\n",
       "      <th>total_vaccinations</th>\n",
       "      <th>people_vaccinated</th>\n",
       "      <th>people_fully_vaccinated</th>\n",
       "      <th>total_boosters</th>\n",
       "    </tr>\n",
       "    <tr>\n",
       "      <th>date</th>\n",
       "      <th></th>\n",
       "      <th></th>\n",
       "      <th></th>\n",
       "      <th></th>\n",
       "      <th></th>\n",
       "      <th></th>\n",
       "      <th></th>\n",
       "      <th></th>\n",
       "      <th></th>\n",
       "      <th></th>\n",
       "      <th></th>\n",
       "      <th></th>\n",
       "      <th></th>\n",
       "    </tr>\n",
       "  </thead>\n",
       "  <tbody>\n",
       "    <tr>\n",
       "      <th>2020-03-08</th>\n",
       "      <td>2020-03-08</td>\n",
       "      <td>Daily ICU occupancy</td>\n",
       "      <td>0</td>\n",
       "      <td>3</td>\n",
       "      <td>0</td>\n",
       "      <td>3</td>\n",
       "      <td>0</td>\n",
       "      <td>0</td>\n",
       "      <td>0</td>\n",
       "      <td>0</td>\n",
       "      <td>0</td>\n",
       "      <td>0</td>\n",
       "      <td>0</td>\n",
       "    </tr>\n",
       "    <tr>\n",
       "      <th>2020-03-09</th>\n",
       "      <td>2020-03-09</td>\n",
       "      <td>Daily ICU occupancy</td>\n",
       "      <td>0</td>\n",
       "      <td>0</td>\n",
       "      <td>0</td>\n",
       "      <td>3</td>\n",
       "      <td>0</td>\n",
       "      <td>0</td>\n",
       "      <td>0</td>\n",
       "      <td>0</td>\n",
       "      <td>0</td>\n",
       "      <td>0</td>\n",
       "      <td>0</td>\n",
       "    </tr>\n",
       "    <tr>\n",
       "      <th>2020-03-10</th>\n",
       "      <td>2020-03-10</td>\n",
       "      <td>Daily ICU occupancy</td>\n",
       "      <td>0</td>\n",
       "      <td>0</td>\n",
       "      <td>0</td>\n",
       "      <td>3</td>\n",
       "      <td>0</td>\n",
       "      <td>0</td>\n",
       "      <td>0</td>\n",
       "      <td>0</td>\n",
       "      <td>0</td>\n",
       "      <td>0</td>\n",
       "      <td>0</td>\n",
       "    </tr>\n",
       "    <tr>\n",
       "      <th>2020-03-11</th>\n",
       "      <td>2020-03-11</td>\n",
       "      <td>Daily ICU occupancy</td>\n",
       "      <td>0</td>\n",
       "      <td>0</td>\n",
       "      <td>0</td>\n",
       "      <td>3</td>\n",
       "      <td>0</td>\n",
       "      <td>0</td>\n",
       "      <td>0</td>\n",
       "      <td>0</td>\n",
       "      <td>0</td>\n",
       "      <td>0</td>\n",
       "      <td>0</td>\n",
       "    </tr>\n",
       "    <tr>\n",
       "      <th>2020-03-12</th>\n",
       "      <td>2020-03-12</td>\n",
       "      <td>Daily ICU occupancy</td>\n",
       "      <td>0</td>\n",
       "      <td>0</td>\n",
       "      <td>0</td>\n",
       "      <td>3</td>\n",
       "      <td>0</td>\n",
       "      <td>0</td>\n",
       "      <td>0</td>\n",
       "      <td>0</td>\n",
       "      <td>0</td>\n",
       "      <td>0</td>\n",
       "      <td>0</td>\n",
       "    </tr>\n",
       "  </tbody>\n",
       "</table>\n",
       "</div>"
      ],
      "text/plain": [
       "                 date            indicator  value  new_cases  new_deaths  \\\n",
       "date                                                                       \n",
       "2020-03-08 2020-03-08  Daily ICU occupancy      0          3           0   \n",
       "2020-03-09 2020-03-09  Daily ICU occupancy      0          0           0   \n",
       "2020-03-10 2020-03-10  Daily ICU occupancy      0          0           0   \n",
       "2020-03-11 2020-03-11  Daily ICU occupancy      0          0           0   \n",
       "2020-03-12 2020-03-12  Daily ICU occupancy      0          0           0   \n",
       "\n",
       "            total_cases  total_deaths  weekly_cases  weekly_deaths  \\\n",
       "date                                                                 \n",
       "2020-03-08            3             0             0              0   \n",
       "2020-03-09            3             0             0              0   \n",
       "2020-03-10            3             0             0              0   \n",
       "2020-03-11            3             0             0              0   \n",
       "2020-03-12            3             0             0              0   \n",
       "\n",
       "            total_vaccinations  people_vaccinated  people_fully_vaccinated  \\\n",
       "date                                                                         \n",
       "2020-03-08                   0                  0                        0   \n",
       "2020-03-09                   0                  0                        0   \n",
       "2020-03-10                   0                  0                        0   \n",
       "2020-03-11                   0                  0                        0   \n",
       "2020-03-12                   0                  0                        0   \n",
       "\n",
       "            total_boosters  \n",
       "date                        \n",
       "2020-03-08               0  \n",
       "2020-03-09               0  \n",
       "2020-03-10               0  \n",
       "2020-03-11               0  \n",
       "2020-03-12               0  "
      ]
     },
     "metadata": {},
     "output_type": "display_data"
    }
   ],
   "source": [
    "display(final_dataframe_2.dtypes)\n",
    "display(final_dataframe_2.head(5))"
   ]
  },
  {
   "cell_type": "markdown",
   "id": "7be65664",
   "metadata": {},
   "source": [
    "# Part 3: Visualization"
   ]
  },
  {
   "cell_type": "code",
   "execution_count": 12,
   "id": "a2211fc3",
   "metadata": {},
   "outputs": [],
   "source": [
    "#Making graph to show different info\n",
    "\n",
    "#Make a hovertool\n",
    "hover = HoverTool(mode = 'vline')\n",
    "hover.tooltips = [('date', '@x{%F}'), ('patient', '@y')]\n",
    "hover.formatters = {'@x': 'datetime'}\n",
    "\n",
    "\n",
    "p1 = figure(plot_height=400,plot_width=950,x_axis_type = \"datetime\")\n",
    "p1.line(final_dataframe.index, final_dataframe.new_cases, line_width=1.5, color=\"red\", alpha=0.5)\n",
    "tab1 = Panel(child=p1, title=\"Covid-19 positive Cases\")\n",
    "p1.add_tools(hover)\n",
    "p1.xaxis.axis_label = 'Date'\n",
    "p1.yaxis.axis_label = 'Numbers of people'\n",
    "\n",
    "\n",
    "p2 = figure(plot_height=400,plot_width=950,x_axis_type = \"datetime\")\n",
    "p2.line(final_dataframe.index, final_dataframe.new_deaths, line_width=1.5, color=\"blue\", alpha=0.5)\n",
    "tab2 = Panel(child=p2, title=\"Covid-19 Deaths\")\n",
    "p2.add_tools(hover)\n",
    "p2.xaxis.axis_label = 'Date'\n",
    "p2.yaxis.axis_label = 'Numbers of people'\n",
    "\n",
    "\n",
    "p3 = figure(plot_height=400,plot_width=950,x_axis_type = \"datetime\")\n",
    "p3.line(final_dataframe.index, final_dataframe.value, line_width=1.5, color=\"navy\", alpha=0.5)\n",
    "tab3 = Panel(child=p3, title=\"Covid-19 General Hospitalization Rate\")\n",
    "p3.add_tools(hover)\n",
    "p3.xaxis.axis_label = 'Date'\n",
    "p3.yaxis.axis_label = 'Numbers of people'\n",
    "\n",
    "\n",
    "p4 = figure(plot_height=400,plot_width=950,x_axis_type = \"datetime\")\n",
    "p4.line(final_dataframe_2.index, final_dataframe_2.value, line_width=1.5, color=\"green\", alpha=0.5)\n",
    "tab4 = Panel(child=p4, title=\"Covid-19 ICU Occupancy Rate\")\n",
    "p4.add_tools(hover)\n",
    "p4.xaxis.axis_label = 'Date'\n",
    "p4.yaxis.axis_label = 'Numbers of people'\n",
    "\n",
    "\n",
    "p5 = figure(plot_height=400,plot_width=950,x_axis_type = \"datetime\")\n",
    "p5.line(final_dataframe.index, final_dataframe.weekly_cases, line_width=1.5, color=\"teal\", alpha=0.5)\n",
    "tab5 = Panel(child=p5, title=\"Covid-19 Weekly Cases\")\n",
    "p5.add_tools(hover)\n",
    "p5.xaxis.axis_label = 'Date'\n",
    "p5.yaxis.axis_label = 'Numbers of people'\n",
    "p5.yaxis.formatter=NumeralTickFormatter(format=\"00\")\n",
    "\n",
    "p6 = figure(plot_height=400,plot_width=950,x_axis_type = \"datetime\")\n",
    "p6.line(final_dataframe.index, final_dataframe.weekly_deaths, line_width=1.5, color=\"darkorange\", alpha=0.5)\n",
    "tab6 = Panel(child=p6, title=\"Covid-19 Weekly Deaths\")\n",
    "p6.add_tools(hover)\n",
    "p6.xaxis.axis_label = 'Date'\n",
    "p6.yaxis.axis_label = 'Numbers of people'\n",
    "\n",
    "\n",
    "tabs = Tabs(tabs=[ tab1, tab2, tab3, tab4, tab5, tab6], sizing_mode='stretch_both')\n",
    "layout = column(tabs)\n",
    "\n",
    "show(layout)"
   ]
  },
  {
   "cell_type": "code",
   "execution_count": 13,
   "id": "e29e43ae",
   "metadata": {},
   "outputs": [
    {
     "data": {
      "image/png": "[encoded data removed]",
      "text/plain": [
       "<Figure size 1296x504 with 1 Axes>"
      ]
     },
     "metadata": {
      "needs_background": "light"
     },
     "output_type": "display_data"
    }
   ],
   "source": [
    "# plot to show total vaccinations\n",
    "\n",
    "plt.figure(figsize=(18,7))\n",
    "plt.gca().xaxis.set_major_formatter(mdates.DateFormatter('%Y-%m-%d'))\n",
    "plt.gca().xaxis.set_major_locator(mdates.DayLocator(interval=31))\n",
    "plt.gca().ticklabel_format(axis='y', style='plain')\n",
    "plt.fill_between(final_dataframe['date'], final_dataframe['total_vaccinations'], color=\"#00cee6\",\n",
    "                 alpha=1, label='People vaccinated')\n",
    "plt.ylabel('Total Amount of Vaccinations', color = 'black', fontsize='15', horizontalalignment='center')\n",
    "plt.xlabel('COV-19 Timeline', color = 'black', fontsize='15', horizontalalignment='center')\n",
    "plt.gcf().autofmt_xdate()\n",
    "plt.legend(loc='upper left')\n",
    "plt.show()"
   ]
  },
  {
   "cell_type": "code",
   "execution_count": 14,
   "id": "96ee7666",
   "metadata": {},
   "outputs": [
    {
     "data": {
      "image/png": "[encoded data removed]",
      "text/plain": [
       "<Figure size 1296x504 with 1 Axes>"
      ]
     },
     "metadata": {
      "needs_background": "light"
     },
     "output_type": "display_data"
    }
   ],
   "source": [
    "# plot to show different shots of vaccinations\n",
    "plt.figure(figsize=(18,7))\n",
    "plt.gca().xaxis.set_major_formatter(mdates.DateFormatter('%Y-%m-%d'))\n",
    "plt.gca().xaxis.set_major_locator(mdates.DayLocator(interval=31))\n",
    "plt.gca().ticklabel_format(axis='y', style='plain')\n",
    "plt.fill_between(final_dataframe_2['date'], final_dataframe_2['people_vaccinated'], color=\"#0bb4ff\",\n",
    "                 alpha=1, label='People vaccinated')\n",
    "plt.fill_between(final_dataframe_2['date'], final_dataframe_2['people_fully_vaccinated'], color=\"#50e991\",\n",
    "                 alpha=1, label='People fully vaccinated')\n",
    "plt.fill_between(final_dataframe_2['date'], final_dataframe_2['total_boosters'], color=\"#e6d800\",\n",
    "                 alpha=1, label='Total boosters')\n",
    "plt.ylabel('Total Amount of People Vaccinated', color = 'black', fontsize='15', horizontalalignment='center')\n",
    "plt.xlabel('COV-19 Timeline', color = 'black', fontsize='15', horizontalalignment='center')\n",
    "plt.gcf().autofmt_xdate()\n",
    "plt.legend(loc='upper left')\n",
    "plt.show()"
   ]
  },
  {
   "cell_type": "code",
   "execution_count": 15,
   "id": "6c18378d",
   "metadata": {},
   "outputs": [],
   "source": [
    "# Creating a column that has the year of each date recording\n",
    "months = [\"January\", \"February\", \"March\", \"April\", \"May\", \"June\", \"July\", \"August\", \"September\", \"October\", \"November\", \"December\"]\n",
    "final_dataframe[\"year\"] = final_dataframe.index.year\n",
    "final_dataframe_2[\"year\"] = final_dataframe_2.index.year\n",
    "\n",
    "# Creating a column that has the month (1-12) of each date recording\n",
    "final_dataframe[\"month\"] = final_dataframe.index.month\n",
    "final_dataframe_2[\"month\"] = final_dataframe_2.index.month\n",
    "\n",
    "# Mapping the month integers to their proper names\n",
    "final_dataframe[\"month\"] = final_dataframe[\"month\"].apply(\n",
    "    lambda data: months[data-1]\n",
    ")\n",
    "final_dataframe_2[\"month\"] = final_dataframe_2[\"month\"].apply(\n",
    "    lambda data: months[data-1]\n",
    ")\n",
    "\n",
    "# Making this a categorical column so it can be sorted by the order of values i.e., the proper month order\n",
    "final_dataframe[\"month\"] = pd.Categorical(final_dataframe[\"month\"], categories=months)\n",
    "final_dataframe_2[\"month\"] = pd.Categorical(final_dataframe_2[\"month\"], categories=months)"
   ]
  },
  {
   "cell_type": "code",
   "execution_count": 16,
   "id": "77ef2de4",
   "metadata": {},
   "outputs": [
    {
     "data": {
      "image/png": "[encoded data removed]",
      "text/plain": [
       "<Figure size 576x504 with 1 Axes>"
      ]
     },
     "metadata": {
      "needs_background": "light"
     },
     "output_type": "display_data"
    }
   ],
   "source": [
    "# Pivot the DF which helps to compare Covid-19 timeline\n",
    "df_pivot = pd.pivot_table(final_dataframe,values=\"new_cases\",index=\"year\",columns=\"month\",aggfunc=np.mean)\n",
    "# Plot a bar chart using the DF\n",
    "ax = df_pivot.plot(kind=\"bar\")\n",
    "# Get a Matplotlib figure from the axes object for formatting purposes\n",
    "fig = ax.get_figure()\n",
    "# Change the plot dimensions (width, height)\n",
    "fig.set_size_inches(8, 7)\n",
    "# Change the axes labels\n",
    "ax.set_xlabel(\"years\")\n",
    "ax.set_ylabel(\"Average of number of Covid-19 cases\")\n",
    "# Use this to show the plot in a new window\n",
    "plt.show()"
   ]
  },
  {
   "cell_type": "code",
   "execution_count": 17,
   "id": "12481b74",
   "metadata": {},
   "outputs": [
    {
     "data": {
      "image/png": "[encoded data removed]",
      "text/plain": [
       "<Figure size 576x504 with 1 Axes>"
      ]
     },
     "metadata": {
      "needs_background": "light"
     },
     "output_type": "display_data"
    }
   ],
   "source": [
    "# Pivot the DF which helps to compare Covid-19 timeline\n",
    "df_pivot = pd.pivot_table(final_dataframe,values=\"weekly_cases\",index=\"year\",columns=\"month\",aggfunc=np.mean)\n",
    "# Plot a bar chart using the DF\n",
    "ax = df_pivot.plot(kind=\"bar\")\n",
    "# Get a Matplotlib figure from the axes object for formatting purposes\n",
    "fig = ax.get_figure()\n",
    "# Change the plot dimensions (width, height)\n",
    "fig.set_size_inches(8, 7)\n",
    "# Change the axes labels\n",
    "ax.set_xlabel(\"years\")\n",
    "ax.set_ylabel(\"Weekly average of Covid-19 cases\")\n",
    "# Use this to show the plot in a new window\n",
    "plt.show()"
   ]
  },
  {
   "cell_type": "code",
   "execution_count": 18,
   "id": "8b0e843d",
   "metadata": {},
   "outputs": [
    {
     "data": {
      "image/png": "[encoded data removed]",
      "text/plain": [
       "<Figure size 576x504 with 1 Axes>"
      ]
     },
     "metadata": {
      "needs_background": "light"
     },
     "output_type": "display_data"
    }
   ],
   "source": [
    "# Pivot the DF which helps to compare Covid-19 timelin\n",
    "df_pivot = pd.pivot_table(final_dataframe,values=\"new_deaths\",index=\"year\",columns=\"month\",aggfunc=np.mean)\n",
    "# Plot a bar chart using the DF\n",
    "ax = df_pivot.plot(kind=\"bar\")\n",
    "# Get a Matplotlib figure from the axes object for formatting purposes\n",
    "fig = ax.get_figure()\n",
    "# Change the plot dimensions (width, height)\n",
    "fig.set_size_inches(8, 7)\n",
    "# Change the axes labels\n",
    "ax.set_xlabel(\"Years\")\n",
    "ax.set_ylabel(\"Average of number of Covid-19 deaths\")\n",
    "# Use this to show the plot in a new window\n",
    "plt.show()"
   ]
  },
  {
   "cell_type": "code",
   "execution_count": 19,
   "id": "c065320b",
   "metadata": {},
   "outputs": [
    {
     "data": {
      "image/png": "[encoded data removed]",
      "text/plain": [
       "<Figure size 576x504 with 1 Axes>"
      ]
     },
     "metadata": {
      "needs_background": "light"
     },
     "output_type": "display_data"
    }
   ],
   "source": [
    "# Pivot the DF which helps to compare Covid-19 timeline\n",
    "df_pivot = pd.pivot_table(final_dataframe,values=\"weekly_deaths\",index=\"year\",columns=\"month\",aggfunc=np.mean)\n",
    "# Plot a bar chart using the DF\n",
    "ax = df_pivot.plot(kind=\"bar\")\n",
    "# Get a Matplotlib figure from the axes object for formatting purposes\n",
    "fig = ax.get_figure()\n",
    "# Change the plot dimensions (width, height)\n",
    "fig.set_size_inches(8, 7)\n",
    "# Change the axes labels\n",
    "ax.set_xlabel(\"years\")\n",
    "ax.set_ylabel(\"Weekly average of Covid-19 deaths\")\n",
    "# Use this to show the plot in a new window\n",
    "plt.show()"
   ]
  },
  {
   "cell_type": "code",
   "execution_count": 20,
   "id": "924e5e91",
   "metadata": {},
   "outputs": [
    {
     "data": {
      "image/png": "[encoded data removed]",
      "text/plain": [
       "<Figure size 576x504 with 1 Axes>"
      ]
     },
     "metadata": {
      "needs_background": "light"
     },
     "output_type": "display_data"
    }
   ],
   "source": [
    "# Pivot the DF which helps to compare Covid-19 timelin\n",
    "df_pivot = pd.pivot_table(final_dataframe,values=\"value\",index=\"year\",columns=\"month\",aggfunc=np.mean)\n",
    "# Plot a bar chart using the DF\n",
    "ax = df_pivot.plot(kind=\"bar\")\n",
    "# Get a Matplotlib figure from the axes object for formatting purposes\n",
    "fig = ax.get_figure()\n",
    "# Change the plot dimensions (width, height)\n",
    "fig.set_size_inches(8, 7)\n",
    "# Change the axes labels\n",
    "ax.set_xlabel(\"Years\")\n",
    "ax.set_ylabel(\"Average of number of hospital admission\")\n",
    "# Use this to show the plot in a new window\n",
    "plt.show()"
   ]
  },
  {
   "cell_type": "code",
   "execution_count": 21,
   "id": "4177f6d1",
   "metadata": {},
   "outputs": [
    {
     "data": {
      "image/png": "[encoded data removed]",
      "text/plain": [
       "<Figure size 576x504 with 1 Axes>"
      ]
     },
     "metadata": {
      "needs_background": "light"
     },
     "output_type": "display_data"
    }
   ],
   "source": [
    "# Pivot the DF which helps to compare Covid-19 timelin\n",
    "df_pivot = pd.pivot_table(final_dataframe_2,values=\"value\",index=\"year\",columns=\"month\",aggfunc=np.mean)\n",
    "# Plot a bar chart using the DF\n",
    "ax = df_pivot.plot(kind=\"bar\")\n",
    "# Get a Matplotlib figure from the axes object for formatting purposes\n",
    "fig = ax.get_figure()\n",
    "# Change the plot dimensions (width, height)\n",
    "fig.set_size_inches(8, 7)\n",
    "# Change the axes labels\n",
    "ax.set_xlabel(\"Years\")\n",
    "ax.set_ylabel(\"Average of number of ICU occupancy\")\n",
    "# Use this to show the plot in a new window\n",
    "plt.show()"
   ]
  },
  {
   "cell_type": "code",
   "execution_count": 22,
   "id": "bdfaac3d",
   "metadata": {},
   "outputs": [
    {
     "data": {
      "image/png": "[encoded data removed]",
      "text/plain": [
       "<Figure size 576x504 with 1 Axes>"
      ]
     },
     "metadata": {
      "needs_background": "light"
     },
     "output_type": "display_data"
    }
   ],
   "source": [
    "# Pivot the DF which helps to compare Covid-19 timelin\n",
    "df_pivot = pd.pivot_table(final_dataframe_2,values=\"total_vaccinations\",index=\"year\",columns=\"month\",aggfunc=np.mean)\n",
    "# Plot a bar chart using the DF\n",
    "ax = df_pivot.plot(kind=\"bar\")\n",
    "# Get a Matplotlib figure from the axes object for formatting purposes\n",
    "fig = ax.get_figure()\n",
    "# Change the plot dimensions (width, height)\n",
    "fig.set_size_inches(8, 7)\n",
    "# Change the axes labels\n",
    "ax.set_xlabel(\"Years\")\n",
    "ax.set_ylabel(\"Average of number vaccinations\")\n",
    "# Use this to show the plot in a new window\n",
    "plt.show()"
   ]
  },
  {
   "cell_type": "code",
   "execution_count": 23,
   "id": "131056e0",
   "metadata": {},
   "outputs": [],
   "source": [
    "#Making a new dataframe to show percentage of changes in the data\n",
    "\n",
    "percentage_dataframe =final_dataframe[['date','new_cases','new_deaths', 'weekly_cases', 'weekly_deaths', 'value']].groupby(final_dataframe['date'].dt.to_period('m')).sum().reset_index()\n",
    "percentage_dataframe_2 =final_dataframe_2[['date','new_cases','new_deaths', 'value']].groupby(final_dataframe_2['date'].dt.to_period('m')).sum().reset_index()\n",
    "percentage_dataframe['Covid_death_percentage'] = ((percentage_dataframe['new_deaths'] / percentage_dataframe['new_cases']) *100).round(2)\n",
    "percentage_dataframe['Covid_weekly_death_percentage'] = ((percentage_dataframe['weekly_deaths'] / percentage_dataframe['weekly_cases']) *100).round(2)\n",
    "percentage_dataframe['Covid_patient_percentage'] = ((percentage_dataframe['new_cases'] / 180000000) *100).round(2)\n",
    "percentage_dataframe['Covid_weekly_patient_percentage'] = ((percentage_dataframe['weekly_cases'] / 180000000) *100).round(2)\n",
    "percentage_dataframe['Covid_hospitalize_percentage'] = ((percentage_dataframe['value'] / percentage_dataframe['new_cases']) *100).round(2)\n",
    "percentage_dataframe_2['Covid_icu_percentage'] = ((percentage_dataframe_2['value'] / percentage_dataframe_2['new_cases']) *100).round(2)\n",
    "\n",
    "\n",
    "percentage_dataframe['date'] = percentage_dataframe['date'].astype(str)\n",
    "percentage_dataframe['date'] = pd.to_datetime(percentage_dataframe['date'])\n",
    "percentage_dataframe['date'] = percentage_dataframe['date'].dt.strftime('%B-%Y')\n",
    "percentage_dataframe.drop(columns=['new_deaths', 'new_cases', 'weekly_cases', 'weekly_deaths', 'value'], errors='ignore', inplace=True)\n",
    "\n",
    "percentage_dataframe_2['date'] = percentage_dataframe_2['date'].astype(str)\n",
    "percentage_dataframe_2['date'] = pd.to_datetime(percentage_dataframe_2['date'])\n",
    "percentage_dataframe_2['date'] = percentage_dataframe_2['date'].dt.strftime('%B-%Y')\n",
    "percentage_dataframe_2.drop(columns=['new_deaths', 'new_cases',  'value'], errors='ignore', inplace=True)\n"
   ]
  },
  {
   "cell_type": "code",
   "execution_count": 24,
   "id": "dd5da93a",
   "metadata": {},
   "outputs": [
    {
     "data": {
      "text/html": [
       "<div>\n",
       "<style scoped>\n",
       "    .dataframe tbody tr th:only-of-type {\n",
       "        vertical-align: middle;\n",
       "    }\n",
       "\n",
       "    .dataframe tbody tr th {\n",
       "        vertical-align: top;\n",
       "    }\n",
       "\n",
       "    .dataframe thead th {\n",
       "        text-align: right;\n",
       "    }\n",
       "</style>\n",
       "<table border=\"1\" class=\"dataframe\">\n",
       "  <thead>\n",
       "    <tr style=\"text-align: right;\">\n",
       "      <th></th>\n",
       "      <th>date</th>\n",
       "      <th>Covid_death_percentage</th>\n",
       "      <th>Covid_weekly_death_percentage</th>\n",
       "      <th>Covid_patient_percentage</th>\n",
       "      <th>Covid_weekly_patient_percentage</th>\n",
       "      <th>Covid_hospitalize_percentage</th>\n",
       "    </tr>\n",
       "  </thead>\n",
       "  <tbody>\n",
       "    <tr>\n",
       "      <th>0</th>\n",
       "      <td>March-2020</td>\n",
       "      <td>9.80</td>\n",
       "      <td>8.97</td>\n",
       "      <td>0.00</td>\n",
       "      <td>0.00</td>\n",
       "      <td>50.98</td>\n",
       "    </tr>\n",
       "    <tr>\n",
       "      <th>1</th>\n",
       "      <td>April-2020</td>\n",
       "      <td>2.14</td>\n",
       "      <td>2.43</td>\n",
       "      <td>0.00</td>\n",
       "      <td>0.02</td>\n",
       "      <td>43.53</td>\n",
       "    </tr>\n",
       "    <tr>\n",
       "      <th>2</th>\n",
       "      <td>May-2020</td>\n",
       "      <td>1.22</td>\n",
       "      <td>1.20</td>\n",
       "      <td>0.02</td>\n",
       "      <td>0.14</td>\n",
       "      <td>10.46</td>\n",
       "    </tr>\n",
       "    <tr>\n",
       "      <th>3</th>\n",
       "      <td>June-2020</td>\n",
       "      <td>1.22</td>\n",
       "      <td>1.22</td>\n",
       "      <td>0.05</td>\n",
       "      <td>0.35</td>\n",
       "      <td>12.95</td>\n",
       "    </tr>\n",
       "    <tr>\n",
       "      <th>4</th>\n",
       "      <td>July-2020</td>\n",
       "      <td>1.37</td>\n",
       "      <td>1.36</td>\n",
       "      <td>0.05</td>\n",
       "      <td>0.37</td>\n",
       "      <td>6.15</td>\n",
       "    </tr>\n",
       "  </tbody>\n",
       "</table>\n",
       "</div>"
      ],
      "text/plain": [
       "         date  Covid_death_percentage  Covid_weekly_death_percentage  \\\n",
       "0  March-2020                    9.80                           8.97   \n",
       "1  April-2020                    2.14                           2.43   \n",
       "2    May-2020                    1.22                           1.20   \n",
       "3   June-2020                    1.22                           1.22   \n",
       "4   July-2020                    1.37                           1.36   \n",
       "\n",
       "   Covid_patient_percentage  Covid_weekly_patient_percentage  \\\n",
       "0                      0.00                             0.00   \n",
       "1                      0.00                             0.02   \n",
       "2                      0.02                             0.14   \n",
       "3                      0.05                             0.35   \n",
       "4                      0.05                             0.37   \n",
       "\n",
       "   Covid_hospitalize_percentage  \n",
       "0                         50.98  \n",
       "1                         43.53  \n",
       "2                         10.46  \n",
       "3                         12.95  \n",
       "4                          6.15  "
      ]
     },
     "metadata": {},
     "output_type": "display_data"
    }
   ],
   "source": [
    "display(percentage_dataframe.head(5))"
   ]
  },
  {
   "cell_type": "code",
   "execution_count": 25,
   "id": "f7a143d3",
   "metadata": {},
   "outputs": [
    {
     "data": {
      "text/html": [
       "<div>\n",
       "<style scoped>\n",
       "    .dataframe tbody tr th:only-of-type {\n",
       "        vertical-align: middle;\n",
       "    }\n",
       "\n",
       "    .dataframe tbody tr th {\n",
       "        vertical-align: top;\n",
       "    }\n",
       "\n",
       "    .dataframe thead th {\n",
       "        text-align: right;\n",
       "    }\n",
       "</style>\n",
       "<table border=\"1\" class=\"dataframe\">\n",
       "  <thead>\n",
       "    <tr style=\"text-align: right;\">\n",
       "      <th></th>\n",
       "      <th>date</th>\n",
       "      <th>Covid_icu_percentage</th>\n",
       "    </tr>\n",
       "  </thead>\n",
       "  <tbody>\n",
       "    <tr>\n",
       "      <th>0</th>\n",
       "      <td>March-2020</td>\n",
       "      <td>11.76</td>\n",
       "    </tr>\n",
       "    <tr>\n",
       "      <th>1</th>\n",
       "      <td>April-2020</td>\n",
       "      <td>15.98</td>\n",
       "    </tr>\n",
       "    <tr>\n",
       "      <th>2</th>\n",
       "      <td>May-2020</td>\n",
       "      <td>2.41</td>\n",
       "    </tr>\n",
       "    <tr>\n",
       "      <th>3</th>\n",
       "      <td>June-2020</td>\n",
       "      <td>2.47</td>\n",
       "    </tr>\n",
       "    <tr>\n",
       "      <th>4</th>\n",
       "      <td>July-2020</td>\n",
       "      <td>1.18</td>\n",
       "    </tr>\n",
       "  </tbody>\n",
       "</table>\n",
       "</div>"
      ],
      "text/plain": [
       "         date  Covid_icu_percentage\n",
       "0  March-2020                 11.76\n",
       "1  April-2020                 15.98\n",
       "2    May-2020                  2.41\n",
       "3   June-2020                  2.47\n",
       "4   July-2020                  1.18"
      ]
     },
     "metadata": {},
     "output_type": "display_data"
    }
   ],
   "source": [
    "display(percentage_dataframe_2.head(5))"
   ]
  },
  {
   "cell_type": "code",
   "execution_count": 27,
   "id": "e04e3c20",
   "metadata": {},
   "outputs": [
    {
     "data": {
      "application/vnd.plotly.v1+json": {
       "config": {
        "plotlyServerURL": "https://plot.ly"
       },
       "data": [
        {
         "cells": {
          "align": "left",
          "fill": {
           "color": "lavender"
          },
          "values": [
           [
            "March-2020",
            "April-2020",
            "May-2020",
            "June-2020",
            "July-2020",
            "August-2020",
            "September-2020",
            "October-2020",
            "November-2020",
            "December-2020",
            "January-2021",
            "February-2021",
            "March-2021",
            "April-2021",
            "May-2021",
            "June-2021",
            "July-2021",
            "August-2021",
            "September-2021",
            "October-2021",
            "November-2021",
            "December-2021",
            "January-2022",
            "February-2022",
            "March-2022",
            "April-2022"
           ],
           [
            9.8,
            2.14,
            1.22,
            1.22,
            1.37,
            1.55,
            1.92,
            1.52,
            1.26,
            1.88,
            2.63,
            2.54,
            0.98,
            1.63,
            2.82,
            1.66,
            1.84,
            2.19,
            2.38,
            2.63,
            1.68,
            0.98,
            0.15,
            0.44,
            1.06,
            0.58
           ],
           [
            0,
            0,
            0.02,
            0.05,
            0.05,
            0.04,
            0.03,
            0.02,
            0.03,
            0.03,
            0.01,
            0.01,
            0.04,
            0.08,
            0.02,
            0.06,
            0.19,
            0.14,
            0.03,
            0.01,
            0,
            0.01,
            0.12,
            0.08,
            0,
            0
           ],
           [
            50.98,
            43.53,
            10.46,
            12.95,
            6.15,
            11.97,
            20.17,
            18.67,
            13.09,
            9.39,
            18.28,
            63.87,
            10.18,
            2.88,
            4.64,
            1.58,
            0.72,
            0.65,
            4.49,
            33,
            18.74,
            4.89,
            0.24,
            0.22,
            2.36,
            3.13
           ],
           [
            11.76,
            15.98,
            2.41,
            2.47,
            1.18,
            3.11,
            4.01,
            3.45,
            1.57,
            1.43,
            3.38,
            10.61,
            1.89,
            0.55,
            0.99,
            0.3,
            0.13,
            0.82,
            4.89,
            7.28,
            12.1,
            2.29,
            0.08,
            0.05,
            1.08,
            0.35
           ],
           [
            0,
            0.02,
            0.14,
            0.35,
            0.37,
            0.3,
            0.21,
            0.14,
            0.21,
            0.2,
            0.09,
            0.04,
            0.2,
            0.6,
            0.18,
            0.36,
            1.24,
            1.07,
            0.24,
            0.06,
            0.03,
            0.03,
            0.68,
            0.7,
            0.04,
            0
           ],
           [
            8.97,
            2.43,
            1.2,
            1.22,
            1.36,
            1.51,
            1.89,
            1.66,
            1.24,
            1.8,
            2.56,
            2.71,
            1.02,
            1.49,
            2.89,
            1.74,
            1.83,
            2.11,
            2.41,
            2.52,
            1.86,
            1.05,
            0.14,
            0.39,
            0.97,
            0.57
           ]
          ]
         },
         "header": {
          "align": "left",
          "fill": {
           "color": "paleturquoise"
          },
          "values": [
           "Month",
           "Percentage of Daily Death",
           "Percentage of Daily Patient",
           "Percentage of Hospital Patient",
           "Percentage of ICU Patient",
           "Percentage of Covid Weekly Cases ",
           "Percentage of Covid Weekly Deaths"
          ]
         },
         "type": "table"
        }
       ],
       "layout": {
        "height": 1000,
        "template": {
         "data": {
          "bar": [
           {
            "error_x": {
             "color": "#2a3f5f"
            },
            "error_y": {
             "color": "#2a3f5f"
            },
            "marker": {
             "line": {
              "color": "#E5ECF6",
              "width": 0.5
             },
             "pattern": {
              "fillmode": "overlay",
              "size": 10,
              "solidity": 0.2
             }
            },
            "type": "bar"
           }
          ],
          "barpolar": [
           {
            "marker": {
             "line": {
              "color": "#E5ECF6",
              "width": 0.5
             },
             "pattern": {
              "fillmode": "overlay",
              "size": 10,
              "solidity": 0.2
             }
            },
            "type": "barpolar"
           }
          ],
          "carpet": [
           {
            "aaxis": {
             "endlinecolor": "#2a3f5f",
             "gridcolor": "white",
             "linecolor": "white",
             "minorgridcolor": "white",
             "startlinecolor": "#2a3f5f"
            },
            "baxis": {
             "endlinecolor": "#2a3f5f",
             "gridcolor": "white",
             "linecolor": "white",
             "minorgridcolor": "white",
             "startlinecolor": "#2a3f5f"
            },
            "type": "carpet"
           }
          ],
          "choropleth": [
           {
            "colorbar": {
             "outlinewidth": 0,
             "ticks": ""
            },
            "type": "choropleth"
           }
          ],
          "contour": [
           {
            "colorbar": {
             "outlinewidth": 0,
             "ticks": ""
            },
            "colorscale": [
             [
              0,
              "#0d0887"
             ],
             [
              0.1111111111111111,
              "#46039f"
             ],
             [
              0.2222222222222222,
              "#7201a8"
             ],
             [
              0.3333333333333333,
              "#9c179e"
             ],
             [
              0.4444444444444444,
              "#bd3786"
             ],
             [
              0.5555555555555556,
              "#d8576b"
             ],
             [
              0.6666666666666666,
              "#ed7953"
             ],
             [
              0.7777777777777778,
              "#fb9f3a"
             ],
             [
              0.8888888888888888,
              "#fdca26"
             ],
             [
              1,
              "#f0f921"
             ]
            ],
            "type": "contour"
           }
          ],
          "contourcarpet": [
           {
            "colorbar": {
             "outlinewidth": 0,
             "ticks": ""
            },
            "type": "contourcarpet"
           }
          ],
          "heatmap": [
           {
            "colorbar": {
             "outlinewidth": 0,
             "ticks": ""
            },
            "colorscale": [
             [
              0,
              "#0d0887"
             ],
             [
              0.1111111111111111,
              "#46039f"
             ],
             [
              0.2222222222222222,
              "#7201a8"
             ],
             [
              0.3333333333333333,
              "#9c179e"
             ],
             [
              0.4444444444444444,
              "#bd3786"
             ],
             [
              0.5555555555555556,
              "#d8576b"
             ],
             [
              0.6666666666666666,
              "#ed7953"
             ],
             [
              0.7777777777777778,
              "#fb9f3a"
             ],
             [
              0.8888888888888888,
              "#fdca26"
             ],
             [
              1,
              "#f0f921"
             ]
            ],
            "type": "heatmap"
           }
          ],
          "heatmapgl": [
           {
            "colorbar": {
             "outlinewidth": 0,
             "ticks": ""
            },
            "colorscale": [
             [
              0,
              "#0d0887"
             ],
             [
              0.1111111111111111,
              "#46039f"
             ],
             [
              0.2222222222222222,
              "#7201a8"
             ],
             [
              0.3333333333333333,
              "#9c179e"
             ],
             [
              0.4444444444444444,
              "#bd3786"
             ],
             [
              0.5555555555555556,
              "#d8576b"
             ],
             [
              0.6666666666666666,
              "#ed7953"
             ],
             [
              0.7777777777777778,
              "#fb9f3a"
             ],
             [
              0.8888888888888888,
              "#fdca26"
             ],
             [
              1,
              "#f0f921"
             ]
            ],
            "type": "heatmapgl"
           }
          ],
          "histogram": [
           {
            "marker": {
             "pattern": {
              "fillmode": "overlay",
              "size": 10,
              "solidity": 0.2
             }
            },
            "type": "histogram"
           }
          ],
          "histogram2d": [
           {
            "colorbar": {
             "outlinewidth": 0,
             "ticks": ""
            },
            "colorscale": [
             [
              0,
              "#0d0887"
             ],
             [
              0.1111111111111111,
              "#46039f"
             ],
             [
              0.2222222222222222,
              "#7201a8"
             ],
             [
              0.3333333333333333,
              "#9c179e"
             ],
             [
              0.4444444444444444,
              "#bd3786"
             ],
             [
              0.5555555555555556,
              "#d8576b"
             ],
             [
              0.6666666666666666,
              "#ed7953"
             ],
             [
              0.7777777777777778,
              "#fb9f3a"
             ],
             [
              0.8888888888888888,
              "#fdca26"
             ],
             [
              1,
              "#f0f921"
             ]
            ],
            "type": "histogram2d"
           }
          ],
          "histogram2dcontour": [
           {
            "colorbar": {
             "outlinewidth": 0,
             "ticks": ""
            },
            "colorscale": [
             [
              0,
              "#0d0887"
             ],
             [
              0.1111111111111111,
              "#46039f"
             ],
             [
              0.2222222222222222,
              "#7201a8"
             ],
             [
              0.3333333333333333,
              "#9c179e"
             ],
             [
              0.4444444444444444,
              "#bd3786"
             ],
             [
              0.5555555555555556,
              "#d8576b"
             ],
             [
              0.6666666666666666,
              "#ed7953"
             ],
             [
              0.7777777777777778,
              "#fb9f3a"
             ],
             [
              0.8888888888888888,
              "#fdca26"
             ],
             [
              1,
              "#f0f921"
             ]
            ],
            "type": "histogram2dcontour"
           }
          ],
          "mesh3d": [
           {
            "colorbar": {
             "outlinewidth": 0,
             "ticks": ""
            },
            "type": "mesh3d"
           }
          ],
          "parcoords": [
           {
            "line": {
             "colorbar": {
              "outlinewidth": 0,
              "ticks": ""
             }
            },
            "type": "parcoords"
           }
          ],
          "pie": [
           {
            "automargin": true,
            "type": "pie"
           }
          ],
          "scatter": [
           {
            "marker": {
             "colorbar": {
              "outlinewidth": 0,
              "ticks": ""
             }
            },
            "type": "scatter"
           }
          ],
          "scatter3d": [
           {
            "line": {
             "colorbar": {
              "outlinewidth": 0,
              "ticks": ""
             }
            },
            "marker": {
             "colorbar": {
              "outlinewidth": 0,
              "ticks": ""
             }
            },
            "type": "scatter3d"
           }
          ],
          "scattercarpet": [
           {
            "marker": {
             "colorbar": {
              "outlinewidth": 0,
              "ticks": ""
             }
            },
            "type": "scattercarpet"
           }
          ],
          "scattergeo": [
           {
            "marker": {
             "colorbar": {
              "outlinewidth": 0,
              "ticks": ""
             }
            },
            "type": "scattergeo"
           }
          ],
          "scattergl": [
           {
            "marker": {
             "colorbar": {
              "outlinewidth": 0,
              "ticks": ""
             }
            },
            "type": "scattergl"
           }
          ],
          "scattermapbox": [
           {
            "marker": {
             "colorbar": {
              "outlinewidth": 0,
              "ticks": ""
             }
            },
            "type": "scattermapbox"
           }
          ],
          "scatterpolar": [
           {
            "marker": {
             "colorbar": {
              "outlinewidth": 0,
              "ticks": ""
             }
            },
            "type": "scatterpolar"
           }
          ],
          "scatterpolargl": [
           {
            "marker": {
             "colorbar": {
              "outlinewidth": 0,
              "ticks": ""
             }
            },
            "type": "scatterpolargl"
           }
          ],
          "scatterternary": [
           {
            "marker": {
             "colorbar": {
              "outlinewidth": 0,
              "ticks": ""
             }
            },
            "type": "scatterternary"
           }
          ],
          "surface": [
           {
            "colorbar": {
             "outlinewidth": 0,
             "ticks": ""
            },
            "colorscale": [
             [
              0,
              "#0d0887"
             ],
             [
              0.1111111111111111,
              "#46039f"
             ],
             [
              0.2222222222222222,
              "#7201a8"
             ],
             [
              0.3333333333333333,
              "#9c179e"
             ],
             [
              0.4444444444444444,
              "#bd3786"
             ],
             [
              0.5555555555555556,
              "#d8576b"
             ],
             [
              0.6666666666666666,
              "#ed7953"
             ],
             [
              0.7777777777777778,
              "#fb9f3a"
             ],
             [
              0.8888888888888888,
              "#fdca26"
             ],
             [
              1,
              "#f0f921"
             ]
            ],
            "type": "surface"
           }
          ],
          "table": [
           {
            "cells": {
             "fill": {
              "color": "#EBF0F8"
             },
             "line": {
              "color": "white"
             }
            },
            "header": {
             "fill": {
              "color": "#C8D4E3"
             },
             "line": {
              "color": "white"
             }
            },
            "type": "table"
           }
          ]
         },
         "layout": {
          "annotationdefaults": {
           "arrowcolor": "#2a3f5f",
           "arrowhead": 0,
           "arrowwidth": 1
          },
          "autotypenumbers": "strict",
          "coloraxis": {
           "colorbar": {
            "outlinewidth": 0,
            "ticks": ""
           }
          },
          "colorscale": {
           "diverging": [
            [
             0,
             "#8e0152"
            ],
            [
             0.1,
             "#c51b7d"
            ],
            [
             0.2,
             "#de77ae"
            ],
            [
             0.3,
             "#f1b6da"
            ],
            [
             0.4,
             "#fde0ef"
            ],
            [
             0.5,
             "#f7f7f7"
            ],
            [
             0.6,
             "#e6f5d0"
            ],
            [
             0.7,
             "#b8e186"
            ],
            [
             0.8,
             "#7fbc41"
            ],
            [
             0.9,
             "#4d9221"
            ],
            [
             1,
             "#276419"
            ]
           ],
           "sequential": [
            [
             0,
             "#0d0887"
            ],
            [
             0.1111111111111111,
             "#46039f"
            ],
            [
             0.2222222222222222,
             "#7201a8"
            ],
            [
             0.3333333333333333,
             "#9c179e"
            ],
            [
             0.4444444444444444,
             "#bd3786"
            ],
            [
             0.5555555555555556,
             "#d8576b"
            ],
            [
             0.6666666666666666,
             "#ed7953"
            ],
            [
             0.7777777777777778,
             "#fb9f3a"
            ],
            [
             0.8888888888888888,
             "#fdca26"
            ],
            [
             1,
             "#f0f921"
            ]
           ],
           "sequentialminus": [
            [
             0,
             "#0d0887"
            ],
            [
             0.1111111111111111,
             "#46039f"
            ],
            [
             0.2222222222222222,
             "#7201a8"
            ],
            [
             0.3333333333333333,
             "#9c179e"
            ],
            [
             0.4444444444444444,
             "#bd3786"
            ],
            [
             0.5555555555555556,
             "#d8576b"
            ],
            [
             0.6666666666666666,
             "#ed7953"
            ],
            [
             0.7777777777777778,
             "#fb9f3a"
            ],
            [
             0.8888888888888888,
             "#fdca26"
            ],
            [
             1,
             "#f0f921"
            ]
           ]
          },
          "colorway": [
           "#636efa",
           "#EF553B",
           "#00cc96",
           "#ab63fa",
           "#FFA15A",
           "#19d3f3",
           "#FF6692",
           "#B6E880",
           "#FF97FF",
           "#FECB52"
          ],
          "font": {
           "color": "#2a3f5f"
          },
          "geo": {
           "bgcolor": "white",
           "lakecolor": "white",
           "landcolor": "#E5ECF6",
           "showlakes": true,
           "showland": true,
           "subunitcolor": "white"
          },
          "hoverlabel": {
           "align": "left"
          },
          "hovermode": "closest",
          "mapbox": {
           "style": "light"
          },
          "paper_bgcolor": "white",
          "plot_bgcolor": "#E5ECF6",
          "polar": {
           "angularaxis": {
            "gridcolor": "white",
            "linecolor": "white",
            "ticks": ""
           },
           "bgcolor": "#E5ECF6",
           "radialaxis": {
            "gridcolor": "white",
            "linecolor": "white",
            "ticks": ""
           }
          },
          "scene": {
           "xaxis": {
            "backgroundcolor": "#E5ECF6",
            "gridcolor": "white",
            "gridwidth": 2,
            "linecolor": "white",
            "showbackground": true,
            "ticks": "",
            "zerolinecolor": "white"
           },
           "yaxis": {
            "backgroundcolor": "#E5ECF6",
            "gridcolor": "white",
            "gridwidth": 2,
            "linecolor": "white",
            "showbackground": true,
            "ticks": "",
            "zerolinecolor": "white"
           },
           "zaxis": {
            "backgroundcolor": "#E5ECF6",
            "gridcolor": "white",
            "gridwidth": 2,
            "linecolor": "white",
            "showbackground": true,
            "ticks": "",
            "zerolinecolor": "white"
           }
          },
          "shapedefaults": {
           "line": {
            "color": "#2a3f5f"
           }
          },
          "ternary": {
           "aaxis": {
            "gridcolor": "white",
            "linecolor": "white",
            "ticks": ""
           },
           "baxis": {
            "gridcolor": "white",
            "linecolor": "white",
            "ticks": ""
           },
           "bgcolor": "#E5ECF6",
           "caxis": {
            "gridcolor": "white",
            "linecolor": "white",
            "ticks": ""
           }
          },
          "title": {
           "x": 0.05
          },
          "xaxis": {
           "automargin": true,
           "gridcolor": "white",
           "linecolor": "white",
           "ticks": "",
           "title": {
            "standoff": 15
           },
           "zerolinecolor": "white",
           "zerolinewidth": 2
          },
          "yaxis": {
           "automargin": true,
           "gridcolor": "white",
           "linecolor": "white",
           "ticks": "",
           "title": {
            "standoff": 15
           },
           "zerolinecolor": "white",
           "zerolinewidth": 2
          }
         }
        },
        "width": 1100
       }
      },
      "text/html": [
       "<div>                            <div id=\"140d426b-fc15-4932-b818-a7d823de7d25\" class=\"plotly-graph-div\" style=\"height:1000px; width:1100px;\"></div>            <script type=\"text/javascript\">                require([\"plotly\"], function(Plotly) {                    window.PLOTLYENV=window.PLOTLYENV || {};                                    if (document.getElementById(\"140d426b-fc15-4932-b818-a7d823de7d25\")) {                    Plotly.newPlot(                        \"140d426b-fc15-4932-b818-a7d823de7d25\",                        [{\"cells\":{\"align\":\"left\",\"fill\":{\"color\":\"lavender\"},\"values\":[[\"March-2020\",\"April-2020\",\"May-2020\",\"June-2020\",\"July-2020\",\"August-2020\",\"September-2020\",\"October-2020\",\"November-2020\",\"December-2020\",\"January-2021\",\"February-2021\",\"March-2021\",\"April-2021\",\"May-2021\",\"June-2021\",\"July-2021\",\"August-2021\",\"September-2021\",\"October-2021\",\"November-2021\",\"December-2021\",\"January-2022\",\"February-2022\",\"March-2022\",\"April-2022\"],[9.8,2.14,1.22,1.22,1.37,1.55,1.92,1.52,1.26,1.88,2.63,2.54,0.98,1.63,2.82,1.66,1.84,2.19,2.38,2.63,1.68,0.98,0.15,0.44,1.06,0.58],[0.0,0.0,0.02,0.05,0.05,0.04,0.03,0.02,0.03,0.03,0.01,0.01,0.04,0.08,0.02,0.06,0.19,0.14,0.03,0.01,0.0,0.01,0.12,0.08,0.0,0.0],[50.98,43.53,10.46,12.95,6.15,11.97,20.17,18.67,13.09,9.39,18.28,63.87,10.18,2.88,4.64,1.58,0.72,0.65,4.49,33.0,18.74,4.89,0.24,0.22,2.36,3.13],[11.76,15.98,2.41,2.47,1.18,3.11,4.01,3.45,1.57,1.43,3.38,10.61,1.89,0.55,0.99,0.3,0.13,0.82,4.89,7.28,12.1,2.29,0.08,0.05,1.08,0.35],[0.0,0.02,0.14,0.35,0.37,0.3,0.21,0.14,0.21,0.2,0.09,0.04,0.2,0.6,0.18,0.36,1.24,1.07,0.24,0.06,0.03,0.03,0.68,0.7,0.04,0.0],[8.97,2.43,1.2,1.22,1.36,1.51,1.89,1.66,1.24,1.8,2.56,2.71,1.02,1.49,2.89,1.74,1.83,2.11,2.41,2.52,1.86,1.05,0.14,0.39,0.97,0.57]]},\"header\":{\"align\":\"left\",\"fill\":{\"color\":\"paleturquoise\"},\"values\":[\"Month\",\"Percentage of Daily Death\",\"Percentage of Daily Patient\",\"Percentage of Hospital Patient\",\"Percentage of ICU Patient\",\"Percentage of Covid Weekly Cases \",\"Percentage of Covid Weekly Deaths\"]},\"type\":\"table\"}],                        {\"template\":{\"data\":{\"bar\":[{\"error_x\":{\"color\":\"#2a3f5f\"},\"error_y\":{\"color\":\"#2a3f5f\"},\"marker\":{\"line\":{\"color\":\"#E5ECF6\",\"width\":0.5},\"pattern\":{\"fillmode\":\"overlay\",\"size\":10,\"solidity\":0.2}},\"type\":\"bar\"}],\"barpolar\":[{\"marker\":{\"line\":{\"color\":\"#E5ECF6\",\"width\":0.5},\"pattern\":{\"fillmode\":\"overlay\",\"size\":10,\"solidity\":0.2}},\"type\":\"barpolar\"}],\"carpet\":[{\"aaxis\":{\"endlinecolor\":\"#2a3f5f\",\"gridcolor\":\"white\",\"linecolor\":\"white\",\"minorgridcolor\":\"white\",\"startlinecolor\":\"#2a3f5f\"},\"baxis\":{\"endlinecolor\":\"#2a3f5f\",\"gridcolor\":\"white\",\"linecolor\":\"white\",\"minorgridcolor\":\"white\",\"startlinecolor\":\"#2a3f5f\"},\"type\":\"carpet\"}],\"choropleth\":[{\"colorbar\":{\"outlinewidth\":0,\"ticks\":\"\"},\"type\":\"choropleth\"}],\"contour\":[{\"colorbar\":{\"outlinewidth\":0,\"ticks\":\"\"},\"colorscale\":[[0.0,\"#0d0887\"],[0.1111111111111111,\"#46039f\"],[0.2222222222222222,\"#7201a8\"],[0.3333333333333333,\"#9c179e\"],[0.4444444444444444,\"#bd3786\"],[0.5555555555555556,\"#d8576b\"],[0.6666666666666666,\"#ed7953\"],[0.7777777777777778,\"#fb9f3a\"],[0.8888888888888888,\"#fdca26\"],[1.0,\"#f0f921\"]],\"type\":\"contour\"}],\"contourcarpet\":[{\"colorbar\":{\"outlinewidth\":0,\"ticks\":\"\"},\"type\":\"contourcarpet\"}],\"heatmap\":[{\"colorbar\":{\"outlinewidth\":0,\"ticks\":\"\"},\"colorscale\":[[0.0,\"#0d0887\"],[0.1111111111111111,\"#46039f\"],[0.2222222222222222,\"#7201a8\"],[0.3333333333333333,\"#9c179e\"],[0.4444444444444444,\"#bd3786\"],[0.5555555555555556,\"#d8576b\"],[0.6666666666666666,\"#ed7953\"],[0.7777777777777778,\"#fb9f3a\"],[0.8888888888888888,\"#fdca26\"],[1.0,\"#f0f921\"]],\"type\":\"heatmap\"}],\"heatmapgl\":[{\"colorbar\":{\"outlinewidth\":0,\"ticks\":\"\"},\"colorscale\":[[0.0,\"#0d0887\"],[0.1111111111111111,\"#46039f\"],[0.2222222222222222,\"#7201a8\"],[0.3333333333333333,\"#9c179e\"],[0.4444444444444444,\"#bd3786\"],[0.5555555555555556,\"#d8576b\"],[0.6666666666666666,\"#ed7953\"],[0.7777777777777778,\"#fb9f3a\"],[0.8888888888888888,\"#fdca26\"],[1.0,\"#f0f921\"]],\"type\":\"heatmapgl\"}],\"histogram\":[{\"marker\":{\"pattern\":{\"fillmode\":\"overlay\",\"size\":10,\"solidity\":0.2}},\"type\":\"histogram\"}],\"histogram2d\":[{\"colorbar\":{\"outlinewidth\":0,\"ticks\":\"\"},\"colorscale\":[[0.0,\"#0d0887\"],[0.1111111111111111,\"#46039f\"],[0.2222222222222222,\"#7201a8\"],[0.3333333333333333,\"#9c179e\"],[0.4444444444444444,\"#bd3786\"],[0.5555555555555556,\"#d8576b\"],[0.6666666666666666,\"#ed7953\"],[0.7777777777777778,\"#fb9f3a\"],[0.8888888888888888,\"#fdca26\"],[1.0,\"#f0f921\"]],\"type\":\"histogram2d\"}],\"histogram2dcontour\":[{\"colorbar\":{\"outlinewidth\":0,\"ticks\":\"\"},\"colorscale\":[[0.0,\"#0d0887\"],[0.1111111111111111,\"#46039f\"],[0.2222222222222222,\"#7201a8\"],[0.3333333333333333,\"#9c179e\"],[0.4444444444444444,\"#bd3786\"],[0.5555555555555556,\"#d8576b\"],[0.6666666666666666,\"#ed7953\"],[0.7777777777777778,\"#fb9f3a\"],[0.8888888888888888,\"#fdca26\"],[1.0,\"#f0f921\"]],\"type\":\"histogram2dcontour\"}],\"mesh3d\":[{\"colorbar\":{\"outlinewidth\":0,\"ticks\":\"\"},\"type\":\"mesh3d\"}],\"parcoords\":[{\"line\":{\"colorbar\":{\"outlinewidth\":0,\"ticks\":\"\"}},\"type\":\"parcoords\"}],\"pie\":[{\"automargin\":true,\"type\":\"pie\"}],\"scatter\":[{\"marker\":{\"colorbar\":{\"outlinewidth\":0,\"ticks\":\"\"}},\"type\":\"scatter\"}],\"scatter3d\":[{\"line\":{\"colorbar\":{\"outlinewidth\":0,\"ticks\":\"\"}},\"marker\":{\"colorbar\":{\"outlinewidth\":0,\"ticks\":\"\"}},\"type\":\"scatter3d\"}],\"scattercarpet\":[{\"marker\":{\"colorbar\":{\"outlinewidth\":0,\"ticks\":\"\"}},\"type\":\"scattercarpet\"}],\"scattergeo\":[{\"marker\":{\"colorbar\":{\"outlinewidth\":0,\"ticks\":\"\"}},\"type\":\"scattergeo\"}],\"scattergl\":[{\"marker\":{\"colorbar\":{\"outlinewidth\":0,\"ticks\":\"\"}},\"type\":\"scattergl\"}],\"scattermapbox\":[{\"marker\":{\"colorbar\":{\"outlinewidth\":0,\"ticks\":\"\"}},\"type\":\"scattermapbox\"}],\"scatterpolar\":[{\"marker\":{\"colorbar\":{\"outlinewidth\":0,\"ticks\":\"\"}},\"type\":\"scatterpolar\"}],\"scatterpolargl\":[{\"marker\":{\"colorbar\":{\"outlinewidth\":0,\"ticks\":\"\"}},\"type\":\"scatterpolargl\"}],\"scatterternary\":[{\"marker\":{\"colorbar\":{\"outlinewidth\":0,\"ticks\":\"\"}},\"type\":\"scatterternary\"}],\"surface\":[{\"colorbar\":{\"outlinewidth\":0,\"ticks\":\"\"},\"colorscale\":[[0.0,\"#0d0887\"],[0.1111111111111111,\"#46039f\"],[0.2222222222222222,\"#7201a8\"],[0.3333333333333333,\"#9c179e\"],[0.4444444444444444,\"#bd3786\"],[0.5555555555555556,\"#d8576b\"],[0.6666666666666666,\"#ed7953\"],[0.7777777777777778,\"#fb9f3a\"],[0.8888888888888888,\"#fdca26\"],[1.0,\"#f0f921\"]],\"type\":\"surface\"}],\"table\":[{\"cells\":{\"fill\":{\"color\":\"#EBF0F8\"},\"line\":{\"color\":\"white\"}},\"header\":{\"fill\":{\"color\":\"#C8D4E3\"},\"line\":{\"color\":\"white\"}},\"type\":\"table\"}]},\"layout\":{\"annotationdefaults\":{\"arrowcolor\":\"#2a3f5f\",\"arrowhead\":0,\"arrowwidth\":1},\"autotypenumbers\":\"strict\",\"coloraxis\":{\"colorbar\":{\"outlinewidth\":0,\"ticks\":\"\"}},\"colorscale\":{\"diverging\":[[0,\"#8e0152\"],[0.1,\"#c51b7d\"],[0.2,\"#de77ae\"],[0.3,\"#f1b6da\"],[0.4,\"#fde0ef\"],[0.5,\"#f7f7f7\"],[0.6,\"#e6f5d0\"],[0.7,\"#b8e186\"],[0.8,\"#7fbc41\"],[0.9,\"#4d9221\"],[1,\"#276419\"]],\"sequential\":[[0.0,\"#0d0887\"],[0.1111111111111111,\"#46039f\"],[0.2222222222222222,\"#7201a8\"],[0.3333333333333333,\"#9c179e\"],[0.4444444444444444,\"#bd3786\"],[0.5555555555555556,\"#d8576b\"],[0.6666666666666666,\"#ed7953\"],[0.7777777777777778,\"#fb9f3a\"],[0.8888888888888888,\"#fdca26\"],[1.0,\"#f0f921\"]],\"sequentialminus\":[[0.0,\"#0d0887\"],[0.1111111111111111,\"#46039f\"],[0.2222222222222222,\"#7201a8\"],[0.3333333333333333,\"#9c179e\"],[0.4444444444444444,\"#bd3786\"],[0.5555555555555556,\"#d8576b\"],[0.6666666666666666,\"#ed7953\"],[0.7777777777777778,\"#fb9f3a\"],[0.8888888888888888,\"#fdca26\"],[1.0,\"#f0f921\"]]},\"colorway\":[\"#636efa\",\"#EF553B\",\"#00cc96\",\"#ab63fa\",\"#FFA15A\",\"#19d3f3\",\"#FF6692\",\"#B6E880\",\"#FF97FF\",\"#FECB52\"],\"font\":{\"color\":\"#2a3f5f\"},\"geo\":{\"bgcolor\":\"white\",\"lakecolor\":\"white\",\"landcolor\":\"#E5ECF6\",\"showlakes\":true,\"showland\":true,\"subunitcolor\":\"white\"},\"hoverlabel\":{\"align\":\"left\"},\"hovermode\":\"closest\",\"mapbox\":{\"style\":\"light\"},\"paper_bgcolor\":\"white\",\"plot_bgcolor\":\"#E5ECF6\",\"polar\":{\"angularaxis\":{\"gridcolor\":\"white\",\"linecolor\":\"white\",\"ticks\":\"\"},\"bgcolor\":\"#E5ECF6\",\"radialaxis\":{\"gridcolor\":\"white\",\"linecolor\":\"white\",\"ticks\":\"\"}},\"scene\":{\"xaxis\":{\"backgroundcolor\":\"#E5ECF6\",\"gridcolor\":\"white\",\"gridwidth\":2,\"linecolor\":\"white\",\"showbackground\":true,\"ticks\":\"\",\"zerolinecolor\":\"white\"},\"yaxis\":{\"backgroundcolor\":\"#E5ECF6\",\"gridcolor\":\"white\",\"gridwidth\":2,\"linecolor\":\"white\",\"showbackground\":true,\"ticks\":\"\",\"zerolinecolor\":\"white\"},\"zaxis\":{\"backgroundcolor\":\"#E5ECF6\",\"gridcolor\":\"white\",\"gridwidth\":2,\"linecolor\":\"white\",\"showbackground\":true,\"ticks\":\"\",\"zerolinecolor\":\"white\"}},\"shapedefaults\":{\"line\":{\"color\":\"#2a3f5f\"}},\"ternary\":{\"aaxis\":{\"gridcolor\":\"white\",\"linecolor\":\"white\",\"ticks\":\"\"},\"baxis\":{\"gridcolor\":\"white\",\"linecolor\":\"white\",\"ticks\":\"\"},\"bgcolor\":\"#E5ECF6\",\"caxis\":{\"gridcolor\":\"white\",\"linecolor\":\"white\",\"ticks\":\"\"}},\"title\":{\"x\":0.05},\"xaxis\":{\"automargin\":true,\"gridcolor\":\"white\",\"linecolor\":\"white\",\"ticks\":\"\",\"title\":{\"standoff\":15},\"zerolinecolor\":\"white\",\"zerolinewidth\":2},\"yaxis\":{\"automargin\":true,\"gridcolor\":\"white\",\"linecolor\":\"white\",\"ticks\":\"\",\"title\":{\"standoff\":15},\"zerolinecolor\":\"white\",\"zerolinewidth\":2}}},\"width\":1100,\"height\":1000},                        {\"responsive\": true}                    ).then(function(){\n",
       "                            \n",
       "var gd = document.getElementById('140d426b-fc15-4932-b818-a7d823de7d25');\n",
       "var x = new MutationObserver(function (mutations, observer) {{\n",
       "        var display = window.getComputedStyle(gd).display;\n",
       "        if (!display || display === 'none') {{\n",
       "            console.log([gd, 'removed!']);\n",
       "            Plotly.purge(gd);\n",
       "            observer.disconnect();\n",
       "        }}\n",
       "}});\n",
       "\n",
       "// Listen for the removal of the full notebook cells\n",
       "var notebookContainer = gd.closest('#notebook-container');\n",
       "if (notebookContainer) {{\n",
       "    x.observe(notebookContainer, {childList: true});\n",
       "}}\n",
       "\n",
       "// Listen for the clearing of the current output cell\n",
       "var outputEl = gd.closest('.output');\n",
       "if (outputEl) {{\n",
       "    x.observe(outputEl, {childList: true});\n",
       "}}\n",
       "\n",
       "                        })                };                });            </script>        </div>"
      ]
     },
     "metadata": {},
     "output_type": "display_data"
    }
   ],
   "source": [
    "fig = go.Figure(data=[go.Table(\n",
    "    header=dict(values=('Month','Percentage of Daily Death',\n",
    "                        'Percentage of Daily Patient',\n",
    "                       'Percentage of Hospital Patient',\n",
    "                       'Percentage of ICU Patient',\n",
    "                       'Percentage of Covid Weekly Cases ',\n",
    "                       'Percentage of Covid Weekly Deaths', \n",
    "                        ),\n",
    "                fill_color='paleturquoise',\n",
    "                align='left'),\n",
    "    cells=dict(values=[percentage_dataframe.date,percentage_dataframe.Covid_death_percentage,percentage_dataframe.Covid_patient_percentage, \n",
    "                       percentage_dataframe.Covid_hospitalize_percentage, percentage_dataframe_2.Covid_icu_percentage,percentage_dataframe.Covid_weekly_patient_percentage, percentage_dataframe.Covid_weekly_death_percentage\n",
    "                       \n",
    "                       ],\n",
    "               fill_color='lavender',\n",
    "               align='left'))\n",
    "])\n",
    "fig.update_layout(width=1100, height=1000)\n",
    "fig.show()"
   ]
  },
  {
   "cell_type": "code",
   "execution_count": 28,
   "id": "256fadd2",
   "metadata": {},
   "outputs": [
    {
     "data": {
      "image/png": "[encoded data removed]",
      "text/plain": [
       "<Figure size 1296x504 with 1 Axes>"
      ]
     },
     "metadata": {
      "needs_background": "light"
     },
     "output_type": "display_data"
    }
   ],
   "source": [
    "plt.figure(figsize=(18,7))\n",
    "plt.plot(percentage_dataframe.date, percentage_dataframe.Covid_patient_percentage, color=\"navy\", label = \"Percentage of Patient Per Population\")\n",
    "plt.legend()\n",
    "plt.ylabel('Minimum And Maximum Percentage', color = 'black', fontsize='15', horizontalalignment='center')\n",
    "plt.xlabel('COV-19 Timeline', color = 'black', fontsize='15', horizontalalignment='center')\n",
    "plt.gcf().autofmt_xdate()\n",
    "plt.show()"
   ]
  },
  {
   "cell_type": "code",
   "execution_count": 29,
   "id": "33cf42a6",
   "metadata": {},
   "outputs": [
    {
     "data": {
      "image/png": "[encoded data removed]",
      "text/plain": [
       "<Figure size 1296x504 with 1 Axes>"
      ]
     },
     "metadata": {
      "needs_background": "light"
     },
     "output_type": "display_data"
    }
   ],
   "source": [
    "plt.figure(figsize=(18,7))\n",
    "plt.plot(percentage_dataframe.date, percentage_dataframe.Covid_death_percentage, color=\"red\", label = \"Percentage of Death Per Covid Patient\")\n",
    "plt.legend()\n",
    "plt.ylabel('Minimum And Maximum Percentage', color = 'black', fontsize='15', horizontalalignment='center')\n",
    "plt.xlabel('COV-19 Timeline', color = 'black', fontsize='15', horizontalalignment='center')\n",
    "plt.gcf().autofmt_xdate()\n",
    "plt.show()"
   ]
  },
  {
   "cell_type": "code",
   "execution_count": 30,
   "id": "4db98e1c",
   "metadata": {},
   "outputs": [
    {
     "data": {
      "image/png": "[encoded data removed]",
      "text/plain": [
       "<Figure size 1296x504 with 1 Axes>"
      ]
     },
     "metadata": {
      "needs_background": "light"
     },
     "output_type": "display_data"
    }
   ],
   "source": [
    "plt.figure(figsize=(18,7))\n",
    "plt.plot(percentage_dataframe.date, percentage_dataframe.Covid_hospitalize_percentage, color=\"green\", label = \"Percentage of Hospitalize Patient\")\n",
    "plt.legend()\n",
    "plt.ylabel('Minimum And Maximum Percentage', color = 'black', fontsize='15', horizontalalignment='center')\n",
    "plt.xlabel('COV-19 Timeline', color = 'black', fontsize='15', horizontalalignment='center')\n",
    "plt.gcf().autofmt_xdate()\n",
    "plt.show()"
   ]
  },
  {
   "cell_type": "code",
   "execution_count": 31,
   "id": "70e5e266",
   "metadata": {},
   "outputs": [
    {
     "data": {
      "image/png": "[encoded data removed]",
      "text/plain": [
       "<Figure size 1296x504 with 1 Axes>"
      ]
     },
     "metadata": {
      "needs_background": "light"
     },
     "output_type": "display_data"
    }
   ],
   "source": [
    "plt.figure(figsize=(18,7))\n",
    "plt.plot(percentage_dataframe_2.date, percentage_dataframe_2.Covid_icu_percentage, color=\"orange\", label = \"Percentage of ICU Patient\")\n",
    "plt.legend()\n",
    "plt.ylabel('Minimum And Maximum Percentage', color = 'black', fontsize='15', horizontalalignment='center')\n",
    "plt.xlabel('COV-19 Timeline', color = 'black', fontsize='15', horizontalalignment='center')\n",
    "plt.gcf().autofmt_xdate()\n",
    "plt.show()"
   ]
  },
  {
   "cell_type": "code",
   "execution_count": null,
   "id": "983940d4",
   "metadata": {},
   "outputs": [],
   "source": []
  },
  {
   "cell_type": "code",
   "execution_count": null,
   "id": "d5da807f",
   "metadata": {},
   "outputs": [],
   "source": []
  },
  {
   "cell_type": "code",
   "execution_count": null,
   "id": "6c9af65e",
   "metadata": {},
   "outputs": [],
   "source": []
  },
  {
   "cell_type": "code",
   "execution_count": null,
   "id": "9fb0f517",
   "metadata": {},
   "outputs": [],
   "source": []
  },
  {
   "cell_type": "code",
   "execution_count": null,
   "id": "ce7d951b",
   "metadata": {},
   "outputs": [],
   "source": []
  }
 ],
 "metadata": {
  "kernelspec": {
   "display_name": "Python 3 (ipykernel)",
   "language": "python",
   "name": "python3"
  },
  "language_info": {
   "codemirror_mode": {
    "name": "ipython",
    "version": 3
   },
   "file_extension": ".py",
   "mimetype": "text/x-python",
   "name": "python",
   "nbconvert_exporter": "python",
   "pygments_lexer": "ipython3",
   "version": "3.9.7"
  }
 },
 "nbformat": 4,
 "nbformat_minor": 5
}
